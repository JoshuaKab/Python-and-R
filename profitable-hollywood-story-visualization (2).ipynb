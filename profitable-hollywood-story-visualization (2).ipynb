{
 "cells": [
  {
   "cell_type": "code",
   "execution_count": 1,
   "id": "d4b026f6",
   "metadata": {
    "_cell_guid": "b1076dfc-b9ad-4769-8c92-a6c4dae69d19",
    "_uuid": "8f2839f25d086af736a60e9eeb907d3b93b6e0e5",
    "execution": {
     "iopub.execute_input": "2023-07-20T14:33:23.091897Z",
     "iopub.status.busy": "2023-07-20T14:33:23.091451Z",
     "iopub.status.idle": "2023-07-20T14:33:23.110570Z",
     "shell.execute_reply": "2023-07-20T14:33:23.109613Z"
    },
    "papermill": {
     "duration": 0.036316,
     "end_time": "2023-07-20T14:33:23.113608",
     "exception": false,
     "start_time": "2023-07-20T14:33:23.077292",
     "status": "completed"
    },
    "tags": []
   },
   "outputs": [
    {
     "name": "stdout",
     "output_type": "stream",
     "text": [
      "/kaggle/input/hollywood-most-profitable-stories/HollywoodsMostProfitableStories.csv\n"
     ]
    }
   ],
   "source": [
    "# This Python 3 environment comes with many helpful analytics libraries installed\n",
    "# It is defined by the kaggle/python Docker image: https://github.com/kaggle/docker-python\n",
    "# For example, here's several helpful packages to load\n",
    "\n",
    "import numpy as np # linear algebra\n",
    "import pandas as pd # data processing, CSV file I/O (e.g. pd.read_csv)\n",
    "\n",
    "# Input data files are available in the read-only \"../input/\" directory\n",
    "# For example, running this (by clicking run or pressing Shift+Enter) will list all files under the input directory\n",
    "\n",
    "import os\n",
    "for dirname, _, filenames in os.walk('/kaggle/input'):\n",
    "    for filename in filenames:\n",
    "        print(os.path.join(dirname, filename))\n",
    "\n",
    "# You can write up to 20GB to the current directory (/kaggle/working/) that gets preserved as output when you create a version using \"Save & Run All\" \n",
    "# You can also write temporary files to /kaggle/temp/, but they won't be saved outside of the current session"
   ]
  },
  {
   "cell_type": "markdown",
   "id": "3c4c887e",
   "metadata": {
    "papermill": {
     "duration": 0.012029,
     "end_time": "2023-07-20T14:33:23.138434",
     "exception": false,
     "start_time": "2023-07-20T14:33:23.126405",
     "status": "completed"
    },
    "tags": []
   },
   "source": [
    "# Goal of the Notebook\n",
    "\n",
    "\n",
    "The goal of the notebook is to do explore data analysis with using simple visualizations on Hollywood Dataset, and get insight from it.\n",
    "\n",
    "\n",
    "**About Dataset**\n",
    "8 features for movie dataset released during 2007-2012, each are:\n",
    "1. Film: Name of Flim\n",
    "2. Genre: Movie Genre\n",
    "3. Lead_Studio: Main Studio that Produced the Movie\n",
    "4. Audience_score%: How Much the Audience Like it\n",
    "5. Profitability: How much Money they Made\n",
    "6. RottenTomatoes%: Movie rating on Rotten Tomatoes\n",
    "7. Worldwide_Gross: Number of Money the Film made Worldwide\n",
    "8. Year: Year the Film was Made"
   ]
  },
  {
   "cell_type": "markdown",
   "id": "892648f3",
   "metadata": {
    "papermill": {
     "duration": 0.01335,
     "end_time": "2023-07-20T14:33:23.164050",
     "exception": false,
     "start_time": "2023-07-20T14:33:23.150700",
     "status": "completed"
    },
    "tags": []
   },
   "source": [
    "**Import neseccary labrary**"
   ]
  },
  {
   "cell_type": "code",
   "execution_count": 2,
   "id": "7d664913",
   "metadata": {
    "execution": {
     "iopub.execute_input": "2023-07-20T14:33:23.190346Z",
     "iopub.status.busy": "2023-07-20T14:33:23.189943Z",
     "iopub.status.idle": "2023-07-20T14:33:26.261702Z",
     "shell.execute_reply": "2023-07-20T14:33:26.260157Z"
    },
    "papermill": {
     "duration": 3.088404,
     "end_time": "2023-07-20T14:33:26.264729",
     "exception": false,
     "start_time": "2023-07-20T14:33:23.176325",
     "status": "completed"
    },
    "tags": []
   },
   "outputs": [
    {
     "name": "stderr",
     "output_type": "stream",
     "text": [
      "/opt/conda/lib/python3.10/site-packages/scipy/__init__.py:146: UserWarning: A NumPy version >=1.16.5 and <1.23.0 is required for this version of SciPy (detected version 1.23.5\n",
      "  warnings.warn(f\"A NumPy version >={np_minversion} and <{np_maxversion}\"\n"
     ]
    }
   ],
   "source": [
    "# for dataframe\n",
    "import pandas as pd \n",
    "import numpy as np\n",
    "\n",
    "# for visualization\n",
    "import missingno as msno\n",
    "import matplotlib as mpl\n",
    "import plotly.graph_objs as go\n",
    "import matplotlib.pyplot as plt  #create box\n",
    "import seaborn as sns  #visualize\n",
    "import plotly.express as px\n",
    "import plotly.figure_factory as ff\n",
    "%matplotlib inline"
   ]
  },
  {
   "cell_type": "code",
   "execution_count": 3,
   "id": "d587bd83",
   "metadata": {
    "execution": {
     "iopub.execute_input": "2023-07-20T14:33:26.291758Z",
     "iopub.status.busy": "2023-07-20T14:33:26.291331Z",
     "iopub.status.idle": "2023-07-20T14:33:26.335454Z",
     "shell.execute_reply": "2023-07-20T14:33:26.334297Z"
    },
    "papermill": {
     "duration": 0.060592,
     "end_time": "2023-07-20T14:33:26.338168",
     "exception": false,
     "start_time": "2023-07-20T14:33:26.277576",
     "status": "completed"
    },
    "tags": []
   },
   "outputs": [
    {
     "name": "stdout",
     "output_type": "stream",
     "text": [
      "shape of dataframe: (74, 8)\n"
     ]
    },
    {
     "data": {
      "text/html": [
       "<div>\n",
       "<style scoped>\n",
       "    .dataframe tbody tr th:only-of-type {\n",
       "        vertical-align: middle;\n",
       "    }\n",
       "\n",
       "    .dataframe tbody tr th {\n",
       "        vertical-align: top;\n",
       "    }\n",
       "\n",
       "    .dataframe thead th {\n",
       "        text-align: right;\n",
       "    }\n",
       "</style>\n",
       "<table border=\"1\" class=\"dataframe\">\n",
       "  <thead>\n",
       "    <tr style=\"text-align: right;\">\n",
       "      <th></th>\n",
       "      <th>Film</th>\n",
       "      <th>Genre</th>\n",
       "      <th>Lead_Studio</th>\n",
       "      <th>Audience__score_%</th>\n",
       "      <th>Profitability</th>\n",
       "      <th>Rotten_Tomatoes_%</th>\n",
       "      <th>Worldwide_Gross</th>\n",
       "      <th>Year</th>\n",
       "    </tr>\n",
       "  </thead>\n",
       "  <tbody>\n",
       "    <tr>\n",
       "      <th>0</th>\n",
       "      <td>27 Dresses</td>\n",
       "      <td>Comedy</td>\n",
       "      <td>Fox</td>\n",
       "      <td>71.0</td>\n",
       "      <td>5.343622</td>\n",
       "      <td>40.0</td>\n",
       "      <td>160.308654</td>\n",
       "      <td>2008</td>\n",
       "    </tr>\n",
       "    <tr>\n",
       "      <th>1</th>\n",
       "      <td>(500) Days of Summer</td>\n",
       "      <td>Comedy</td>\n",
       "      <td>Fox</td>\n",
       "      <td>81.0</td>\n",
       "      <td>8.096000</td>\n",
       "      <td>87.0</td>\n",
       "      <td>60.720000</td>\n",
       "      <td>2009</td>\n",
       "    </tr>\n",
       "    <tr>\n",
       "      <th>2</th>\n",
       "      <td>A Dangerous Method</td>\n",
       "      <td>Drama</td>\n",
       "      <td>Independent</td>\n",
       "      <td>89.0</td>\n",
       "      <td>0.448645</td>\n",
       "      <td>79.0</td>\n",
       "      <td>8.972895</td>\n",
       "      <td>2011</td>\n",
       "    </tr>\n",
       "    <tr>\n",
       "      <th>3</th>\n",
       "      <td>A Serious Man</td>\n",
       "      <td>Drama</td>\n",
       "      <td>Universal</td>\n",
       "      <td>64.0</td>\n",
       "      <td>4.382857</td>\n",
       "      <td>89.0</td>\n",
       "      <td>30.680000</td>\n",
       "      <td>2009</td>\n",
       "    </tr>\n",
       "    <tr>\n",
       "      <th>4</th>\n",
       "      <td>Across the Universe</td>\n",
       "      <td>Romance</td>\n",
       "      <td>Independent</td>\n",
       "      <td>84.0</td>\n",
       "      <td>0.652603</td>\n",
       "      <td>54.0</td>\n",
       "      <td>29.367143</td>\n",
       "      <td>2007</td>\n",
       "    </tr>\n",
       "  </tbody>\n",
       "</table>\n",
       "</div>"
      ],
      "text/plain": [
       "                   Film    Genre  Lead_Studio  Audience__score_%  \\\n",
       "0            27 Dresses   Comedy          Fox               71.0   \n",
       "1  (500) Days of Summer   Comedy          Fox               81.0   \n",
       "2    A Dangerous Method    Drama  Independent               89.0   \n",
       "3         A Serious Man    Drama    Universal               64.0   \n",
       "4   Across the Universe  Romance  Independent               84.0   \n",
       "\n",
       "   Profitability  Rotten_Tomatoes_%  Worldwide_Gross  Year  \n",
       "0       5.343622               40.0       160.308654  2008  \n",
       "1       8.096000               87.0        60.720000  2009  \n",
       "2       0.448645               79.0         8.972895  2011  \n",
       "3       4.382857               89.0        30.680000  2009  \n",
       "4       0.652603               54.0        29.367143  2007  "
      ]
     },
     "execution_count": 3,
     "metadata": {},
     "output_type": "execute_result"
    }
   ],
   "source": [
    "# read data\n",
    "df1 = pd.read_csv(\"../input/hollywood-most-profitable-stories/HollywoodsMostProfitableStories.csv\")\n",
    "hollywood = df1.rename(columns=lambda x: x.replace(\" \",\"_\"))\n",
    "\n",
    "print(\"shape of dataframe:\", hollywood.shape)\n",
    "hollywood.head(5)"
   ]
  },
  {
   "cell_type": "markdown",
   "id": "fe842c2d",
   "metadata": {
    "papermill": {
     "duration": 0.012688,
     "end_time": "2023-07-20T14:33:26.363677",
     "exception": false,
     "start_time": "2023-07-20T14:33:26.350989",
     "status": "completed"
    },
    "tags": []
   },
   "source": [
    "let's do some data explorations\n"
   ]
  },
  {
   "cell_type": "markdown",
   "id": "e8b2343d",
   "metadata": {
    "papermill": {
     "duration": 0.012713,
     "end_time": "2023-07-20T14:33:26.389361",
     "exception": false,
     "start_time": "2023-07-20T14:33:26.376648",
     "status": "completed"
    },
    "tags": []
   },
   "source": [
    "Missing Values\n",
    "* Let's remember, which columns have the missing values"
   ]
  },
  {
   "cell_type": "code",
   "execution_count": 4,
   "id": "470a9b18",
   "metadata": {
    "execution": {
     "iopub.execute_input": "2023-07-20T14:33:26.417036Z",
     "iopub.status.busy": "2023-07-20T14:33:26.416635Z",
     "iopub.status.idle": "2023-07-20T14:33:26.431081Z",
     "shell.execute_reply": "2023-07-20T14:33:26.429934Z"
    },
    "papermill": {
     "duration": 0.031123,
     "end_time": "2023-07-20T14:33:26.433466",
     "exception": false,
     "start_time": "2023-07-20T14:33:26.402343",
     "status": "completed"
    },
    "tags": []
   },
   "outputs": [
    {
     "data": {
      "text/plain": [
       "Film                 0\n",
       "Genre                0\n",
       "Lead_Studio          1\n",
       "Audience__score_%    1\n",
       "Profitability        3\n",
       "Rotten_Tomatoes_%    1\n",
       "Worldwide_Gross      0\n",
       "Year                 0\n",
       "dtype: int64"
      ]
     },
     "execution_count": 4,
     "metadata": {},
     "output_type": "execute_result"
    }
   ],
   "source": [
    "hollywood.isnull().sum()"
   ]
  },
  {
   "cell_type": "markdown",
   "id": "f16dd764",
   "metadata": {
    "papermill": {
     "duration": 0.012897,
     "end_time": "2023-07-20T14:33:26.459555",
     "exception": false,
     "start_time": "2023-07-20T14:33:26.446658",
     "status": "completed"
    },
    "tags": []
   },
   "source": [
    "Since we will use all the films, film column must be without missing values. So we are OK for the film column.\n",
    "Genre, Worldwide Gross and Year columns do not have any missing values.\n"
   ]
  },
  {
   "cell_type": "code",
   "execution_count": 5,
   "id": "d9cfb825",
   "metadata": {
    "execution": {
     "iopub.execute_input": "2023-07-20T14:33:26.488667Z",
     "iopub.status.busy": "2023-07-20T14:33:26.487325Z",
     "iopub.status.idle": "2023-07-20T14:33:26.511899Z",
     "shell.execute_reply": "2023-07-20T14:33:26.510739Z"
    },
    "papermill": {
     "duration": 0.041448,
     "end_time": "2023-07-20T14:33:26.514410",
     "exception": false,
     "start_time": "2023-07-20T14:33:26.472962",
     "status": "completed"
    },
    "tags": []
   },
   "outputs": [
    {
     "name": "stdout",
     "output_type": "stream",
     "text": [
      "<class 'pandas.core.frame.DataFrame'>\n",
      "RangeIndex: 74 entries, 0 to 73\n",
      "Data columns (total 8 columns):\n",
      " #   Column             Non-Null Count  Dtype  \n",
      "---  ------             --------------  -----  \n",
      " 0   Film               74 non-null     object \n",
      " 1   Genre              74 non-null     object \n",
      " 2   Lead_Studio        73 non-null     object \n",
      " 3   Audience__score_%  73 non-null     float64\n",
      " 4   Profitability      71 non-null     float64\n",
      " 5   Rotten_Tomatoes_%  73 non-null     float64\n",
      " 6   Worldwide_Gross    74 non-null     float64\n",
      " 7   Year               74 non-null     int64  \n",
      "dtypes: float64(4), int64(1), object(3)\n",
      "memory usage: 4.8+ KB\n"
     ]
    }
   ],
   "source": [
    "hollywood.info()"
   ]
  },
  {
   "cell_type": "markdown",
   "id": "ad0bc32b",
   "metadata": {
    "papermill": {
     "duration": 0.012679,
     "end_time": "2023-07-20T14:33:26.540367",
     "exception": false,
     "start_time": "2023-07-20T14:33:26.527688",
     "status": "completed"
    },
    "tags": []
   },
   "source": [
    "let's check more of the missing value\n"
   ]
  },
  {
   "cell_type": "code",
   "execution_count": 6,
   "id": "e65eaf27",
   "metadata": {
    "execution": {
     "iopub.execute_input": "2023-07-20T14:33:26.568494Z",
     "iopub.status.busy": "2023-07-20T14:33:26.568022Z",
     "iopub.status.idle": "2023-07-20T14:33:26.584943Z",
     "shell.execute_reply": "2023-07-20T14:33:26.583773Z"
    },
    "papermill": {
     "duration": 0.034077,
     "end_time": "2023-07-20T14:33:26.587421",
     "exception": false,
     "start_time": "2023-07-20T14:33:26.553344",
     "status": "completed"
    },
    "tags": []
   },
   "outputs": [
    {
     "data": {
      "text/html": [
       "<div>\n",
       "<style scoped>\n",
       "    .dataframe tbody tr th:only-of-type {\n",
       "        vertical-align: middle;\n",
       "    }\n",
       "\n",
       "    .dataframe tbody tr th {\n",
       "        vertical-align: top;\n",
       "    }\n",
       "\n",
       "    .dataframe thead th {\n",
       "        text-align: right;\n",
       "    }\n",
       "</style>\n",
       "<table border=\"1\" class=\"dataframe\">\n",
       "  <thead>\n",
       "    <tr style=\"text-align: right;\">\n",
       "      <th></th>\n",
       "      <th>Film</th>\n",
       "      <th>Genre</th>\n",
       "      <th>Lead_Studio</th>\n",
       "      <th>Audience__score_%</th>\n",
       "      <th>Profitability</th>\n",
       "      <th>Rotten_Tomatoes_%</th>\n",
       "      <th>Worldwide_Gross</th>\n",
       "      <th>Year</th>\n",
       "    </tr>\n",
       "  </thead>\n",
       "  <tbody>\n",
       "    <tr>\n",
       "      <th>38</th>\n",
       "      <td>No Reservations</td>\n",
       "      <td>Comedy</td>\n",
       "      <td>NaN</td>\n",
       "      <td>64.0</td>\n",
       "      <td>3.30718</td>\n",
       "      <td>39.0</td>\n",
       "      <td>92.60105</td>\n",
       "      <td>2007</td>\n",
       "    </tr>\n",
       "  </tbody>\n",
       "</table>\n",
       "</div>"
      ],
      "text/plain": [
       "               Film   Genre Lead_Studio  Audience__score_%  Profitability  \\\n",
       "38  No Reservations  Comedy         NaN               64.0        3.30718   \n",
       "\n",
       "    Rotten_Tomatoes_%  Worldwide_Gross  Year  \n",
       "38               39.0         92.60105  2007  "
      ]
     },
     "execution_count": 6,
     "metadata": {},
     "output_type": "execute_result"
    }
   ],
   "source": [
    "hollywood[hollywood['Lead_Studio'].isnull()]"
   ]
  },
  {
   "cell_type": "code",
   "execution_count": 7,
   "id": "60d54bbb",
   "metadata": {
    "execution": {
     "iopub.execute_input": "2023-07-20T14:33:26.616472Z",
     "iopub.status.busy": "2023-07-20T14:33:26.616064Z",
     "iopub.status.idle": "2023-07-20T14:33:26.630606Z",
     "shell.execute_reply": "2023-07-20T14:33:26.629441Z"
    },
    "papermill": {
     "duration": 0.032602,
     "end_time": "2023-07-20T14:33:26.633137",
     "exception": false,
     "start_time": "2023-07-20T14:33:26.600535",
     "status": "completed"
    },
    "tags": []
   },
   "outputs": [
    {
     "data": {
      "text/html": [
       "<div>\n",
       "<style scoped>\n",
       "    .dataframe tbody tr th:only-of-type {\n",
       "        vertical-align: middle;\n",
       "    }\n",
       "\n",
       "    .dataframe tbody tr th {\n",
       "        vertical-align: top;\n",
       "    }\n",
       "\n",
       "    .dataframe thead th {\n",
       "        text-align: right;\n",
       "    }\n",
       "</style>\n",
       "<table border=\"1\" class=\"dataframe\">\n",
       "  <thead>\n",
       "    <tr style=\"text-align: right;\">\n",
       "      <th></th>\n",
       "      <th>Film</th>\n",
       "      <th>Genre</th>\n",
       "      <th>Lead_Studio</th>\n",
       "      <th>Audience__score_%</th>\n",
       "      <th>Profitability</th>\n",
       "      <th>Rotten_Tomatoes_%</th>\n",
       "      <th>Worldwide_Gross</th>\n",
       "      <th>Year</th>\n",
       "    </tr>\n",
       "  </thead>\n",
       "  <tbody>\n",
       "    <tr>\n",
       "      <th>50</th>\n",
       "      <td>Something Borrowed</td>\n",
       "      <td>Romance</td>\n",
       "      <td>Independent</td>\n",
       "      <td>NaN</td>\n",
       "      <td>1.719514</td>\n",
       "      <td>NaN</td>\n",
       "      <td>60.183</td>\n",
       "      <td>2011</td>\n",
       "    </tr>\n",
       "  </tbody>\n",
       "</table>\n",
       "</div>"
      ],
      "text/plain": [
       "                  Film    Genre  Lead_Studio  Audience__score_%  \\\n",
       "50  Something Borrowed  Romance  Independent                NaN   \n",
       "\n",
       "    Profitability  Rotten_Tomatoes_%  Worldwide_Gross  Year  \n",
       "50       1.719514                NaN           60.183  2011  "
      ]
     },
     "execution_count": 7,
     "metadata": {},
     "output_type": "execute_result"
    }
   ],
   "source": [
    "hollywood[hollywood['Audience__score_%'].isnull()]"
   ]
  },
  {
   "cell_type": "code",
   "execution_count": 8,
   "id": "1aeece79",
   "metadata": {
    "execution": {
     "iopub.execute_input": "2023-07-20T14:33:26.662832Z",
     "iopub.status.busy": "2023-07-20T14:33:26.662442Z",
     "iopub.status.idle": "2023-07-20T14:33:26.678138Z",
     "shell.execute_reply": "2023-07-20T14:33:26.676843Z"
    },
    "papermill": {
     "duration": 0.033104,
     "end_time": "2023-07-20T14:33:26.680568",
     "exception": false,
     "start_time": "2023-07-20T14:33:26.647464",
     "status": "completed"
    },
    "tags": []
   },
   "outputs": [
    {
     "data": {
      "text/html": [
       "<div>\n",
       "<style scoped>\n",
       "    .dataframe tbody tr th:only-of-type {\n",
       "        vertical-align: middle;\n",
       "    }\n",
       "\n",
       "    .dataframe tbody tr th {\n",
       "        vertical-align: top;\n",
       "    }\n",
       "\n",
       "    .dataframe thead th {\n",
       "        text-align: right;\n",
       "    }\n",
       "</style>\n",
       "<table border=\"1\" class=\"dataframe\">\n",
       "  <thead>\n",
       "    <tr style=\"text-align: right;\">\n",
       "      <th></th>\n",
       "      <th>Film</th>\n",
       "      <th>Genre</th>\n",
       "      <th>Lead_Studio</th>\n",
       "      <th>Audience__score_%</th>\n",
       "      <th>Profitability</th>\n",
       "      <th>Rotten_Tomatoes_%</th>\n",
       "      <th>Worldwide_Gross</th>\n",
       "      <th>Year</th>\n",
       "    </tr>\n",
       "  </thead>\n",
       "  <tbody>\n",
       "    <tr>\n",
       "      <th>18</th>\n",
       "      <td>Jane Eyre</td>\n",
       "      <td>Romance</td>\n",
       "      <td>Universal</td>\n",
       "      <td>77.0</td>\n",
       "      <td>NaN</td>\n",
       "      <td>85.0</td>\n",
       "      <td>30.147</td>\n",
       "      <td>2011</td>\n",
       "    </tr>\n",
       "    <tr>\n",
       "      <th>41</th>\n",
       "      <td>Our Family Wedding</td>\n",
       "      <td>Comedy</td>\n",
       "      <td>Independent</td>\n",
       "      <td>49.0</td>\n",
       "      <td>NaN</td>\n",
       "      <td>14.0</td>\n",
       "      <td>21.370</td>\n",
       "      <td>2010</td>\n",
       "    </tr>\n",
       "    <tr>\n",
       "      <th>70</th>\n",
       "      <td>When in Rome</td>\n",
       "      <td>Comedy</td>\n",
       "      <td>Disney</td>\n",
       "      <td>44.0</td>\n",
       "      <td>NaN</td>\n",
       "      <td>15.0</td>\n",
       "      <td>43.040</td>\n",
       "      <td>2010</td>\n",
       "    </tr>\n",
       "  </tbody>\n",
       "</table>\n",
       "</div>"
      ],
      "text/plain": [
       "                  Film    Genre  Lead_Studio  Audience__score_%  \\\n",
       "18           Jane Eyre  Romance    Universal               77.0   \n",
       "41  Our Family Wedding   Comedy  Independent               49.0   \n",
       "70        When in Rome   Comedy       Disney               44.0   \n",
       "\n",
       "    Profitability  Rotten_Tomatoes_%  Worldwide_Gross  Year  \n",
       "18            NaN               85.0           30.147  2011  \n",
       "41            NaN               14.0           21.370  2010  \n",
       "70            NaN               15.0           43.040  2010  "
      ]
     },
     "execution_count": 8,
     "metadata": {},
     "output_type": "execute_result"
    }
   ],
   "source": [
    "hollywood[hollywood['Profitability'].isnull()]"
   ]
  },
  {
   "cell_type": "code",
   "execution_count": 9,
   "id": "710cd8c2",
   "metadata": {
    "execution": {
     "iopub.execute_input": "2023-07-20T14:33:26.709976Z",
     "iopub.status.busy": "2023-07-20T14:33:26.709560Z",
     "iopub.status.idle": "2023-07-20T14:33:26.726338Z",
     "shell.execute_reply": "2023-07-20T14:33:26.725219Z"
    },
    "papermill": {
     "duration": 0.034373,
     "end_time": "2023-07-20T14:33:26.728718",
     "exception": false,
     "start_time": "2023-07-20T14:33:26.694345",
     "status": "completed"
    },
    "tags": []
   },
   "outputs": [
    {
     "data": {
      "text/html": [
       "<div>\n",
       "<style scoped>\n",
       "    .dataframe tbody tr th:only-of-type {\n",
       "        vertical-align: middle;\n",
       "    }\n",
       "\n",
       "    .dataframe tbody tr th {\n",
       "        vertical-align: top;\n",
       "    }\n",
       "\n",
       "    .dataframe thead th {\n",
       "        text-align: right;\n",
       "    }\n",
       "</style>\n",
       "<table border=\"1\" class=\"dataframe\">\n",
       "  <thead>\n",
       "    <tr style=\"text-align: right;\">\n",
       "      <th></th>\n",
       "      <th>Film</th>\n",
       "      <th>Genre</th>\n",
       "      <th>Lead_Studio</th>\n",
       "      <th>Audience__score_%</th>\n",
       "      <th>Profitability</th>\n",
       "      <th>Rotten_Tomatoes_%</th>\n",
       "      <th>Worldwide_Gross</th>\n",
       "      <th>Year</th>\n",
       "    </tr>\n",
       "  </thead>\n",
       "  <tbody>\n",
       "    <tr>\n",
       "      <th>18</th>\n",
       "      <td>Jane Eyre</td>\n",
       "      <td>Romance</td>\n",
       "      <td>Universal</td>\n",
       "      <td>77.0</td>\n",
       "      <td>NaN</td>\n",
       "      <td>85.0</td>\n",
       "      <td>30.147</td>\n",
       "      <td>2011</td>\n",
       "    </tr>\n",
       "    <tr>\n",
       "      <th>41</th>\n",
       "      <td>Our Family Wedding</td>\n",
       "      <td>Comedy</td>\n",
       "      <td>Independent</td>\n",
       "      <td>49.0</td>\n",
       "      <td>NaN</td>\n",
       "      <td>14.0</td>\n",
       "      <td>21.370</td>\n",
       "      <td>2010</td>\n",
       "    </tr>\n",
       "    <tr>\n",
       "      <th>70</th>\n",
       "      <td>When in Rome</td>\n",
       "      <td>Comedy</td>\n",
       "      <td>Disney</td>\n",
       "      <td>44.0</td>\n",
       "      <td>NaN</td>\n",
       "      <td>15.0</td>\n",
       "      <td>43.040</td>\n",
       "      <td>2010</td>\n",
       "    </tr>\n",
       "  </tbody>\n",
       "</table>\n",
       "</div>"
      ],
      "text/plain": [
       "                  Film    Genre  Lead_Studio  Audience__score_%  \\\n",
       "18           Jane Eyre  Romance    Universal               77.0   \n",
       "41  Our Family Wedding   Comedy  Independent               49.0   \n",
       "70        When in Rome   Comedy       Disney               44.0   \n",
       "\n",
       "    Profitability  Rotten_Tomatoes_%  Worldwide_Gross  Year  \n",
       "18            NaN               85.0           30.147  2011  \n",
       "41            NaN               14.0           21.370  2010  \n",
       "70            NaN               15.0           43.040  2010  "
      ]
     },
     "execution_count": 9,
     "metadata": {},
     "output_type": "execute_result"
    }
   ],
   "source": [
    "hollywood[hollywood['Profitability'].isnull()]"
   ]
  },
  {
   "cell_type": "code",
   "execution_count": 10,
   "id": "422c10f2",
   "metadata": {
    "execution": {
     "iopub.execute_input": "2023-07-20T14:33:26.758946Z",
     "iopub.status.busy": "2023-07-20T14:33:26.758582Z",
     "iopub.status.idle": "2023-07-20T14:33:26.773985Z",
     "shell.execute_reply": "2023-07-20T14:33:26.772874Z"
    },
    "papermill": {
     "duration": 0.033332,
     "end_time": "2023-07-20T14:33:26.776262",
     "exception": false,
     "start_time": "2023-07-20T14:33:26.742930",
     "status": "completed"
    },
    "tags": []
   },
   "outputs": [
    {
     "data": {
      "text/html": [
       "<div>\n",
       "<style scoped>\n",
       "    .dataframe tbody tr th:only-of-type {\n",
       "        vertical-align: middle;\n",
       "    }\n",
       "\n",
       "    .dataframe tbody tr th {\n",
       "        vertical-align: top;\n",
       "    }\n",
       "\n",
       "    .dataframe thead th {\n",
       "        text-align: right;\n",
       "    }\n",
       "</style>\n",
       "<table border=\"1\" class=\"dataframe\">\n",
       "  <thead>\n",
       "    <tr style=\"text-align: right;\">\n",
       "      <th></th>\n",
       "      <th>Film</th>\n",
       "      <th>Genre</th>\n",
       "      <th>Lead_Studio</th>\n",
       "      <th>Audience__score_%</th>\n",
       "      <th>Profitability</th>\n",
       "      <th>Rotten_Tomatoes_%</th>\n",
       "      <th>Worldwide_Gross</th>\n",
       "      <th>Year</th>\n",
       "    </tr>\n",
       "  </thead>\n",
       "  <tbody>\n",
       "    <tr>\n",
       "      <th>50</th>\n",
       "      <td>Something Borrowed</td>\n",
       "      <td>Romance</td>\n",
       "      <td>Independent</td>\n",
       "      <td>NaN</td>\n",
       "      <td>1.719514</td>\n",
       "      <td>NaN</td>\n",
       "      <td>60.183</td>\n",
       "      <td>2011</td>\n",
       "    </tr>\n",
       "  </tbody>\n",
       "</table>\n",
       "</div>"
      ],
      "text/plain": [
       "                  Film    Genre  Lead_Studio  Audience__score_%  \\\n",
       "50  Something Borrowed  Romance  Independent                NaN   \n",
       "\n",
       "    Profitability  Rotten_Tomatoes_%  Worldwide_Gross  Year  \n",
       "50       1.719514                NaN           60.183  2011  "
      ]
     },
     "execution_count": 10,
     "metadata": {},
     "output_type": "execute_result"
    }
   ],
   "source": [
    "hollywood[hollywood['Rotten_Tomatoes_%'].isnull()]"
   ]
  },
  {
   "cell_type": "code",
   "execution_count": 11,
   "id": "727a8d91",
   "metadata": {
    "execution": {
     "iopub.execute_input": "2023-07-20T14:33:26.807058Z",
     "iopub.status.busy": "2023-07-20T14:33:26.806669Z",
     "iopub.status.idle": "2023-07-20T14:33:26.816053Z",
     "shell.execute_reply": "2023-07-20T14:33:26.814898Z"
    },
    "papermill": {
     "duration": 0.027386,
     "end_time": "2023-07-20T14:33:26.818245",
     "exception": false,
     "start_time": "2023-07-20T14:33:26.790859",
     "status": "completed"
    },
    "tags": []
   },
   "outputs": [
    {
     "data": {
      "text/plain": [
       "Comedy       0.554054\n",
       "Romance      0.202703\n",
       "Drama        0.175676\n",
       "Animation    0.040541\n",
       "Action       0.013514\n",
       "Fantasy      0.013514\n",
       "Name: Genre, dtype: float64"
      ]
     },
     "execution_count": 11,
     "metadata": {},
     "output_type": "execute_result"
    }
   ],
   "source": [
    "hollywood['Genre'].value_counts(normalize = True)"
   ]
  },
  {
   "cell_type": "markdown",
   "id": "92e64184",
   "metadata": {
    "papermill": {
     "duration": 0.014606,
     "end_time": "2023-07-20T14:33:26.847381",
     "exception": false,
     "start_time": "2023-07-20T14:33:26.832775",
     "status": "completed"
    },
    "tags": []
   },
   "source": [
    "* comedy makes 55%\n",
    "* Romance 20% and Drama 17,5% than others  Genres\n"
   ]
  },
  {
   "cell_type": "code",
   "execution_count": 12,
   "id": "e9da48eb",
   "metadata": {
    "execution": {
     "iopub.execute_input": "2023-07-20T14:33:26.879182Z",
     "iopub.status.busy": "2023-07-20T14:33:26.878431Z",
     "iopub.status.idle": "2023-07-20T14:33:26.888211Z",
     "shell.execute_reply": "2023-07-20T14:33:26.887154Z"
    },
    "papermill": {
     "duration": 0.028114,
     "end_time": "2023-07-20T14:33:26.890577",
     "exception": false,
     "start_time": "2023-07-20T14:33:26.862463",
     "status": "completed"
    },
    "tags": []
   },
   "outputs": [
    {
     "data": {
      "text/plain": [
       "Independent              0.260274\n",
       "Warner Bros.             0.164384\n",
       "Universal                0.095890\n",
       "Disney                   0.095890\n",
       "Fox                      0.082192\n",
       "Summit                   0.068493\n",
       "Sony                     0.054795\n",
       "Paramount                0.054795\n",
       "The Weinstein Company    0.041096\n",
       "Lionsgate                0.027397\n",
       "20th Century Fox         0.027397\n",
       "New Line                 0.013699\n",
       "CBS                      0.013699\n",
       "Name: Lead_Studio, dtype: float64"
      ]
     },
     "execution_count": 12,
     "metadata": {},
     "output_type": "execute_result"
    }
   ],
   "source": [
    "hollywood['Lead_Studio'].value_counts(normalize = True)"
   ]
  },
  {
   "cell_type": "markdown",
   "id": "45e5b63c",
   "metadata": {
    "papermill": {
     "duration": 0.01416,
     "end_time": "2023-07-20T14:33:26.919350",
     "exception": false,
     "start_time": "2023-07-20T14:33:26.905190",
     "status": "completed"
    },
    "tags": []
   },
   "source": [
    "* Independent studios make 26% of the all the studios in this dataset.\n",
    "* Warner Bros also comes close by 16%\n",
    "* Universal and Disney share the same 9,5%\n"
   ]
  },
  {
   "cell_type": "code",
   "execution_count": 13,
   "id": "129a9eb4",
   "metadata": {
    "execution": {
     "iopub.execute_input": "2023-07-20T14:33:26.951061Z",
     "iopub.status.busy": "2023-07-20T14:33:26.949968Z",
     "iopub.status.idle": "2023-07-20T14:33:26.979028Z",
     "shell.execute_reply": "2023-07-20T14:33:26.978048Z"
    },
    "papermill": {
     "duration": 0.047402,
     "end_time": "2023-07-20T14:33:26.981511",
     "exception": false,
     "start_time": "2023-07-20T14:33:26.934109",
     "status": "completed"
    },
    "tags": []
   },
   "outputs": [
    {
     "data": {
      "text/html": [
       "<div>\n",
       "<style scoped>\n",
       "    .dataframe tbody tr th:only-of-type {\n",
       "        vertical-align: middle;\n",
       "    }\n",
       "\n",
       "    .dataframe tbody tr th {\n",
       "        vertical-align: top;\n",
       "    }\n",
       "\n",
       "    .dataframe thead th {\n",
       "        text-align: right;\n",
       "    }\n",
       "</style>\n",
       "<table border=\"1\" class=\"dataframe\">\n",
       "  <thead>\n",
       "    <tr style=\"text-align: right;\">\n",
       "      <th></th>\n",
       "      <th>Audience__score_%</th>\n",
       "      <th>Profitability</th>\n",
       "      <th>Rotten_Tomatoes_%</th>\n",
       "      <th>Worldwide_Gross</th>\n",
       "      <th>Year</th>\n",
       "    </tr>\n",
       "  </thead>\n",
       "  <tbody>\n",
       "    <tr>\n",
       "      <th>count</th>\n",
       "      <td>73.000000</td>\n",
       "      <td>71.000000</td>\n",
       "      <td>73.000000</td>\n",
       "      <td>74.000000</td>\n",
       "      <td>74.000000</td>\n",
       "    </tr>\n",
       "    <tr>\n",
       "      <th>mean</th>\n",
       "      <td>64.136986</td>\n",
       "      <td>4.741610</td>\n",
       "      <td>47.356164</td>\n",
       "      <td>136.351979</td>\n",
       "      <td>2009.054054</td>\n",
       "    </tr>\n",
       "    <tr>\n",
       "      <th>std</th>\n",
       "      <td>13.647665</td>\n",
       "      <td>8.292017</td>\n",
       "      <td>26.242655</td>\n",
       "      <td>157.067561</td>\n",
       "      <td>1.353756</td>\n",
       "    </tr>\n",
       "    <tr>\n",
       "      <th>min</th>\n",
       "      <td>35.000000</td>\n",
       "      <td>0.005000</td>\n",
       "      <td>3.000000</td>\n",
       "      <td>0.025000</td>\n",
       "      <td>2007.000000</td>\n",
       "    </tr>\n",
       "    <tr>\n",
       "      <th>25%</th>\n",
       "      <td>52.000000</td>\n",
       "      <td>1.790680</td>\n",
       "      <td>27.000000</td>\n",
       "      <td>32.447500</td>\n",
       "      <td>2008.000000</td>\n",
       "    </tr>\n",
       "    <tr>\n",
       "      <th>50%</th>\n",
       "      <td>64.000000</td>\n",
       "      <td>2.642353</td>\n",
       "      <td>45.000000</td>\n",
       "      <td>73.198612</td>\n",
       "      <td>2009.000000</td>\n",
       "    </tr>\n",
       "    <tr>\n",
       "      <th>75%</th>\n",
       "      <td>76.000000</td>\n",
       "      <td>4.850958</td>\n",
       "      <td>65.000000</td>\n",
       "      <td>190.185250</td>\n",
       "      <td>2010.000000</td>\n",
       "    </tr>\n",
       "    <tr>\n",
       "      <th>max</th>\n",
       "      <td>89.000000</td>\n",
       "      <td>66.934000</td>\n",
       "      <td>96.000000</td>\n",
       "      <td>709.820000</td>\n",
       "      <td>2011.000000</td>\n",
       "    </tr>\n",
       "  </tbody>\n",
       "</table>\n",
       "</div>"
      ],
      "text/plain": [
       "       Audience__score_%  Profitability  Rotten_Tomatoes_%  Worldwide_Gross  \\\n",
       "count          73.000000      71.000000          73.000000        74.000000   \n",
       "mean           64.136986       4.741610          47.356164       136.351979   \n",
       "std            13.647665       8.292017          26.242655       157.067561   \n",
       "min            35.000000       0.005000           3.000000         0.025000   \n",
       "25%            52.000000       1.790680          27.000000        32.447500   \n",
       "50%            64.000000       2.642353          45.000000        73.198612   \n",
       "75%            76.000000       4.850958          65.000000       190.185250   \n",
       "max            89.000000      66.934000          96.000000       709.820000   \n",
       "\n",
       "              Year  \n",
       "count    74.000000  \n",
       "mean   2009.054054  \n",
       "std       1.353756  \n",
       "min    2007.000000  \n",
       "25%    2008.000000  \n",
       "50%    2009.000000  \n",
       "75%    2010.000000  \n",
       "max    2011.000000  "
      ]
     },
     "execution_count": 13,
     "metadata": {},
     "output_type": "execute_result"
    }
   ],
   "source": [
    "#let's check the statistic value of each column\n",
    "hollywood.describe()"
   ]
  },
  {
   "cell_type": "markdown",
   "id": "1faa8fd9",
   "metadata": {
    "papermill": {
     "duration": 0.014491,
     "end_time": "2023-07-20T14:33:27.011067",
     "exception": false,
     "start_time": "2023-07-20T14:33:26.996576",
     "status": "completed"
    },
    "tags": []
   },
   "source": [
    "As we can know that the dataframe consists of 3 categorical columns: \"Film\", \"Genre\", \"Lead_Studio\", and 5 numeric columns.\n",
    "\n",
    "**We'll start by exploring categorical columns.**"
   ]
  },
  {
   "cell_type": "code",
   "execution_count": 14,
   "id": "f71d3b7f",
   "metadata": {
    "execution": {
     "iopub.execute_input": "2023-07-20T14:33:27.043406Z",
     "iopub.status.busy": "2023-07-20T14:33:27.042679Z",
     "iopub.status.idle": "2023-07-20T14:33:27.049983Z",
     "shell.execute_reply": "2023-07-20T14:33:27.049024Z"
    },
    "papermill": {
     "duration": 0.025929,
     "end_time": "2023-07-20T14:33:27.052464",
     "exception": false,
     "start_time": "2023-07-20T14:33:27.026535",
     "status": "completed"
    },
    "tags": []
   },
   "outputs": [],
   "source": [
    "def plotly_bar(series, title, x_title, y_title):\n",
    "    fig = px.bar(x = series.index, \n",
    "                 y = series.values, \n",
    "                 color = series.index, \n",
    "                 color_discrete_sequence = px.colors.qualitative.Antique,\n",
    "                 text = series.values,\n",
    "                 template = \"ggplot2\",\n",
    "               title = title)\n",
    "\n",
    "    fig.update_layout(\n",
    "    font=dict(size=17,family=\"Times New Roman\"))\n",
    "\n",
    "    fig.update_layout(\n",
    "    xaxis_title=x_title,\n",
    "    yaxis_title=y_title,\n",
    "    font=dict(size=17,family=\"Times New Roman\"))\n",
    "    \n",
    "    return fig"
   ]
  },
  {
   "cell_type": "code",
   "execution_count": 15,
   "id": "81100120",
   "metadata": {
    "execution": {
     "iopub.execute_input": "2023-07-20T14:33:27.083936Z",
     "iopub.status.busy": "2023-07-20T14:33:27.083554Z",
     "iopub.status.idle": "2023-07-20T14:33:28.791336Z",
     "shell.execute_reply": "2023-07-20T14:33:28.790509Z"
    },
    "papermill": {
     "duration": 1.726033,
     "end_time": "2023-07-20T14:33:28.793608",
     "exception": false,
     "start_time": "2023-07-20T14:33:27.067575",
     "status": "completed"
    },
    "tags": []
   },
   "outputs": [
    {
     "data": {
      "text/html": [
       "        <script type=\"text/javascript\">\n",
       "        window.PlotlyConfig = {MathJaxConfig: 'local'};\n",
       "        if (window.MathJax && window.MathJax.Hub && window.MathJax.Hub.Config) {window.MathJax.Hub.Config({SVG: {font: \"STIX-Web\"}});}\n",
       "        if (typeof require !== 'undefined') {\n",
       "        require.undef(\"plotly\");\n",
       "        requirejs.config({\n",
       "            paths: {\n",
       "                'plotly': ['https://cdn.plot.ly/plotly-2.24.1.min']\n",
       "            }\n",
       "        });\n",
       "        require(['plotly'], function(Plotly) {\n",
       "            window._Plotly = Plotly;\n",
       "        });\n",
       "        }\n",
       "        </script>\n",
       "        "
      ]
     },
     "metadata": {},
     "output_type": "display_data"
    },
    {
     "data": {
      "text/html": [
       "<div>                            <div id=\"6436bd78-0466-4723-bc19-d6de4e152131\" class=\"plotly-graph-div\" style=\"height:525px; width:100%;\"></div>            <script type=\"text/javascript\">                require([\"plotly\"], function(Plotly) {                    window.PLOTLYENV=window.PLOTLYENV || {};                                    if (document.getElementById(\"6436bd78-0466-4723-bc19-d6de4e152131\")) {                    Plotly.newPlot(                        \"6436bd78-0466-4723-bc19-d6de4e152131\",                        [{\"alignmentgroup\":\"True\",\"hovertemplate\":\"color=Comedy\\u003cbr\\u003ex=%{x}\\u003cbr\\u003ey=%{y}\\u003cbr\\u003etext=%{text}\\u003cextra\\u003e\\u003c\\u002fextra\\u003e\",\"legendgroup\":\"Comedy\",\"marker\":{\"color\":\"rgb(133, 92, 117)\",\"pattern\":{\"shape\":\"\"}},\"name\":\"Comedy\",\"offsetgroup\":\"Comedy\",\"orientation\":\"v\",\"showlegend\":true,\"text\":[41.0],\"textposition\":\"auto\",\"x\":[\"Comedy\"],\"xaxis\":\"x\",\"y\":[41],\"yaxis\":\"y\",\"type\":\"bar\"},{\"alignmentgroup\":\"True\",\"hovertemplate\":\"color=Romance\\u003cbr\\u003ex=%{x}\\u003cbr\\u003ey=%{y}\\u003cbr\\u003etext=%{text}\\u003cextra\\u003e\\u003c\\u002fextra\\u003e\",\"legendgroup\":\"Romance\",\"marker\":{\"color\":\"rgb(217, 175, 107)\",\"pattern\":{\"shape\":\"\"}},\"name\":\"Romance\",\"offsetgroup\":\"Romance\",\"orientation\":\"v\",\"showlegend\":true,\"text\":[15.0],\"textposition\":\"auto\",\"x\":[\"Romance\"],\"xaxis\":\"x\",\"y\":[15],\"yaxis\":\"y\",\"type\":\"bar\"},{\"alignmentgroup\":\"True\",\"hovertemplate\":\"color=Drama\\u003cbr\\u003ex=%{x}\\u003cbr\\u003ey=%{y}\\u003cbr\\u003etext=%{text}\\u003cextra\\u003e\\u003c\\u002fextra\\u003e\",\"legendgroup\":\"Drama\",\"marker\":{\"color\":\"rgb(175, 100, 88)\",\"pattern\":{\"shape\":\"\"}},\"name\":\"Drama\",\"offsetgroup\":\"Drama\",\"orientation\":\"v\",\"showlegend\":true,\"text\":[13.0],\"textposition\":\"auto\",\"x\":[\"Drama\"],\"xaxis\":\"x\",\"y\":[13],\"yaxis\":\"y\",\"type\":\"bar\"},{\"alignmentgroup\":\"True\",\"hovertemplate\":\"color=Animation\\u003cbr\\u003ex=%{x}\\u003cbr\\u003ey=%{y}\\u003cbr\\u003etext=%{text}\\u003cextra\\u003e\\u003c\\u002fextra\\u003e\",\"legendgroup\":\"Animation\",\"marker\":{\"color\":\"rgb(115, 111, 76)\",\"pattern\":{\"shape\":\"\"}},\"name\":\"Animation\",\"offsetgroup\":\"Animation\",\"orientation\":\"v\",\"showlegend\":true,\"text\":[3.0],\"textposition\":\"auto\",\"x\":[\"Animation\"],\"xaxis\":\"x\",\"y\":[3],\"yaxis\":\"y\",\"type\":\"bar\"},{\"alignmentgroup\":\"True\",\"hovertemplate\":\"color=Action\\u003cbr\\u003ex=%{x}\\u003cbr\\u003ey=%{y}\\u003cbr\\u003etext=%{text}\\u003cextra\\u003e\\u003c\\u002fextra\\u003e\",\"legendgroup\":\"Action\",\"marker\":{\"color\":\"rgb(82, 106, 131)\",\"pattern\":{\"shape\":\"\"}},\"name\":\"Action\",\"offsetgroup\":\"Action\",\"orientation\":\"v\",\"showlegend\":true,\"text\":[1.0],\"textposition\":\"auto\",\"x\":[\"Action\"],\"xaxis\":\"x\",\"y\":[1],\"yaxis\":\"y\",\"type\":\"bar\"},{\"alignmentgroup\":\"True\",\"hovertemplate\":\"color=Fantasy\\u003cbr\\u003ex=%{x}\\u003cbr\\u003ey=%{y}\\u003cbr\\u003etext=%{text}\\u003cextra\\u003e\\u003c\\u002fextra\\u003e\",\"legendgroup\":\"Fantasy\",\"marker\":{\"color\":\"rgb(98, 83, 119)\",\"pattern\":{\"shape\":\"\"}},\"name\":\"Fantasy\",\"offsetgroup\":\"Fantasy\",\"orientation\":\"v\",\"showlegend\":true,\"text\":[1.0],\"textposition\":\"auto\",\"x\":[\"Fantasy\"],\"xaxis\":\"x\",\"y\":[1],\"yaxis\":\"y\",\"type\":\"bar\"}],                        {\"template\":{\"data\":{\"barpolar\":[{\"marker\":{\"line\":{\"color\":\"rgb(237,237,237)\",\"width\":0.5},\"pattern\":{\"fillmode\":\"overlay\",\"size\":10,\"solidity\":0.2}},\"type\":\"barpolar\"}],\"bar\":[{\"error_x\":{\"color\":\"rgb(51,51,51)\"},\"error_y\":{\"color\":\"rgb(51,51,51)\"},\"marker\":{\"line\":{\"color\":\"rgb(237,237,237)\",\"width\":0.5},\"pattern\":{\"fillmode\":\"overlay\",\"size\":10,\"solidity\":0.2}},\"type\":\"bar\"}],\"carpet\":[{\"aaxis\":{\"endlinecolor\":\"rgb(51,51,51)\",\"gridcolor\":\"white\",\"linecolor\":\"white\",\"minorgridcolor\":\"white\",\"startlinecolor\":\"rgb(51,51,51)\"},\"baxis\":{\"endlinecolor\":\"rgb(51,51,51)\",\"gridcolor\":\"white\",\"linecolor\":\"white\",\"minorgridcolor\":\"white\",\"startlinecolor\":\"rgb(51,51,51)\"},\"type\":\"carpet\"}],\"choropleth\":[{\"colorbar\":{\"outlinewidth\":0,\"tickcolor\":\"rgb(237,237,237)\",\"ticklen\":6,\"ticks\":\"inside\"},\"type\":\"choropleth\"}],\"contourcarpet\":[{\"colorbar\":{\"outlinewidth\":0,\"tickcolor\":\"rgb(237,237,237)\",\"ticklen\":6,\"ticks\":\"inside\"},\"type\":\"contourcarpet\"}],\"contour\":[{\"colorbar\":{\"outlinewidth\":0,\"tickcolor\":\"rgb(237,237,237)\",\"ticklen\":6,\"ticks\":\"inside\"},\"colorscale\":[[0,\"rgb(20,44,66)\"],[1,\"rgb(90,179,244)\"]],\"type\":\"contour\"}],\"heatmapgl\":[{\"colorbar\":{\"outlinewidth\":0,\"tickcolor\":\"rgb(237,237,237)\",\"ticklen\":6,\"ticks\":\"inside\"},\"colorscale\":[[0,\"rgb(20,44,66)\"],[1,\"rgb(90,179,244)\"]],\"type\":\"heatmapgl\"}],\"heatmap\":[{\"colorbar\":{\"outlinewidth\":0,\"tickcolor\":\"rgb(237,237,237)\",\"ticklen\":6,\"ticks\":\"inside\"},\"colorscale\":[[0,\"rgb(20,44,66)\"],[1,\"rgb(90,179,244)\"]],\"type\":\"heatmap\"}],\"histogram2dcontour\":[{\"colorbar\":{\"outlinewidth\":0,\"tickcolor\":\"rgb(237,237,237)\",\"ticklen\":6,\"ticks\":\"inside\"},\"colorscale\":[[0,\"rgb(20,44,66)\"],[1,\"rgb(90,179,244)\"]],\"type\":\"histogram2dcontour\"}],\"histogram2d\":[{\"colorbar\":{\"outlinewidth\":0,\"tickcolor\":\"rgb(237,237,237)\",\"ticklen\":6,\"ticks\":\"inside\"},\"colorscale\":[[0,\"rgb(20,44,66)\"],[1,\"rgb(90,179,244)\"]],\"type\":\"histogram2d\"}],\"histogram\":[{\"marker\":{\"pattern\":{\"fillmode\":\"overlay\",\"size\":10,\"solidity\":0.2}},\"type\":\"histogram\"}],\"mesh3d\":[{\"colorbar\":{\"outlinewidth\":0,\"tickcolor\":\"rgb(237,237,237)\",\"ticklen\":6,\"ticks\":\"inside\"},\"type\":\"mesh3d\"}],\"parcoords\":[{\"line\":{\"colorbar\":{\"outlinewidth\":0,\"tickcolor\":\"rgb(237,237,237)\",\"ticklen\":6,\"ticks\":\"inside\"}},\"type\":\"parcoords\"}],\"pie\":[{\"automargin\":true,\"type\":\"pie\"}],\"scatter3d\":[{\"line\":{\"colorbar\":{\"outlinewidth\":0,\"tickcolor\":\"rgb(237,237,237)\",\"ticklen\":6,\"ticks\":\"inside\"}},\"marker\":{\"colorbar\":{\"outlinewidth\":0,\"tickcolor\":\"rgb(237,237,237)\",\"ticklen\":6,\"ticks\":\"inside\"}},\"type\":\"scatter3d\"}],\"scattercarpet\":[{\"marker\":{\"colorbar\":{\"outlinewidth\":0,\"tickcolor\":\"rgb(237,237,237)\",\"ticklen\":6,\"ticks\":\"inside\"}},\"type\":\"scattercarpet\"}],\"scattergeo\":[{\"marker\":{\"colorbar\":{\"outlinewidth\":0,\"tickcolor\":\"rgb(237,237,237)\",\"ticklen\":6,\"ticks\":\"inside\"}},\"type\":\"scattergeo\"}],\"scattergl\":[{\"marker\":{\"colorbar\":{\"outlinewidth\":0,\"tickcolor\":\"rgb(237,237,237)\",\"ticklen\":6,\"ticks\":\"inside\"}},\"type\":\"scattergl\"}],\"scattermapbox\":[{\"marker\":{\"colorbar\":{\"outlinewidth\":0,\"tickcolor\":\"rgb(237,237,237)\",\"ticklen\":6,\"ticks\":\"inside\"}},\"type\":\"scattermapbox\"}],\"scatterpolargl\":[{\"marker\":{\"colorbar\":{\"outlinewidth\":0,\"tickcolor\":\"rgb(237,237,237)\",\"ticklen\":6,\"ticks\":\"inside\"}},\"type\":\"scatterpolargl\"}],\"scatterpolar\":[{\"marker\":{\"colorbar\":{\"outlinewidth\":0,\"tickcolor\":\"rgb(237,237,237)\",\"ticklen\":6,\"ticks\":\"inside\"}},\"type\":\"scatterpolar\"}],\"scatter\":[{\"fillpattern\":{\"fillmode\":\"overlay\",\"size\":10,\"solidity\":0.2},\"type\":\"scatter\"}],\"scatterternary\":[{\"marker\":{\"colorbar\":{\"outlinewidth\":0,\"tickcolor\":\"rgb(237,237,237)\",\"ticklen\":6,\"ticks\":\"inside\"}},\"type\":\"scatterternary\"}],\"surface\":[{\"colorbar\":{\"outlinewidth\":0,\"tickcolor\":\"rgb(237,237,237)\",\"ticklen\":6,\"ticks\":\"inside\"},\"colorscale\":[[0,\"rgb(20,44,66)\"],[1,\"rgb(90,179,244)\"]],\"type\":\"surface\"}],\"table\":[{\"cells\":{\"fill\":{\"color\":\"rgb(237,237,237)\"},\"line\":{\"color\":\"white\"}},\"header\":{\"fill\":{\"color\":\"rgb(217,217,217)\"},\"line\":{\"color\":\"white\"}},\"type\":\"table\"}]},\"layout\":{\"annotationdefaults\":{\"arrowhead\":0,\"arrowwidth\":1},\"autotypenumbers\":\"strict\",\"coloraxis\":{\"colorbar\":{\"outlinewidth\":0,\"tickcolor\":\"rgb(237,237,237)\",\"ticklen\":6,\"ticks\":\"inside\"}},\"colorscale\":{\"sequential\":[[0,\"rgb(20,44,66)\"],[1,\"rgb(90,179,244)\"]],\"sequentialminus\":[[0,\"rgb(20,44,66)\"],[1,\"rgb(90,179,244)\"]]},\"colorway\":[\"#F8766D\",\"#A3A500\",\"#00BF7D\",\"#00B0F6\",\"#E76BF3\"],\"font\":{\"color\":\"rgb(51,51,51)\"},\"geo\":{\"bgcolor\":\"white\",\"lakecolor\":\"white\",\"landcolor\":\"rgb(237,237,237)\",\"showlakes\":true,\"showland\":true,\"subunitcolor\":\"white\"},\"hoverlabel\":{\"align\":\"left\"},\"hovermode\":\"closest\",\"paper_bgcolor\":\"white\",\"plot_bgcolor\":\"rgb(237,237,237)\",\"polar\":{\"angularaxis\":{\"gridcolor\":\"white\",\"linecolor\":\"white\",\"showgrid\":true,\"tickcolor\":\"rgb(51,51,51)\",\"ticks\":\"outside\"},\"bgcolor\":\"rgb(237,237,237)\",\"radialaxis\":{\"gridcolor\":\"white\",\"linecolor\":\"white\",\"showgrid\":true,\"tickcolor\":\"rgb(51,51,51)\",\"ticks\":\"outside\"}},\"scene\":{\"xaxis\":{\"backgroundcolor\":\"rgb(237,237,237)\",\"gridcolor\":\"white\",\"gridwidth\":2,\"linecolor\":\"white\",\"showbackground\":true,\"showgrid\":true,\"tickcolor\":\"rgb(51,51,51)\",\"ticks\":\"outside\",\"zerolinecolor\":\"white\"},\"yaxis\":{\"backgroundcolor\":\"rgb(237,237,237)\",\"gridcolor\":\"white\",\"gridwidth\":2,\"linecolor\":\"white\",\"showbackground\":true,\"showgrid\":true,\"tickcolor\":\"rgb(51,51,51)\",\"ticks\":\"outside\",\"zerolinecolor\":\"white\"},\"zaxis\":{\"backgroundcolor\":\"rgb(237,237,237)\",\"gridcolor\":\"white\",\"gridwidth\":2,\"linecolor\":\"white\",\"showbackground\":true,\"showgrid\":true,\"tickcolor\":\"rgb(51,51,51)\",\"ticks\":\"outside\",\"zerolinecolor\":\"white\"}},\"shapedefaults\":{\"fillcolor\":\"black\",\"line\":{\"width\":0},\"opacity\":0.3},\"ternary\":{\"aaxis\":{\"gridcolor\":\"white\",\"linecolor\":\"white\",\"showgrid\":true,\"tickcolor\":\"rgb(51,51,51)\",\"ticks\":\"outside\"},\"baxis\":{\"gridcolor\":\"white\",\"linecolor\":\"white\",\"showgrid\":true,\"tickcolor\":\"rgb(51,51,51)\",\"ticks\":\"outside\"},\"bgcolor\":\"rgb(237,237,237)\",\"caxis\":{\"gridcolor\":\"white\",\"linecolor\":\"white\",\"showgrid\":true,\"tickcolor\":\"rgb(51,51,51)\",\"ticks\":\"outside\"}},\"xaxis\":{\"automargin\":true,\"gridcolor\":\"white\",\"linecolor\":\"white\",\"showgrid\":true,\"tickcolor\":\"rgb(51,51,51)\",\"ticks\":\"outside\",\"title\":{\"standoff\":15},\"zerolinecolor\":\"white\"},\"yaxis\":{\"automargin\":true,\"gridcolor\":\"white\",\"linecolor\":\"white\",\"showgrid\":true,\"tickcolor\":\"rgb(51,51,51)\",\"ticks\":\"outside\",\"title\":{\"standoff\":15},\"zerolinecolor\":\"white\"}}},\"xaxis\":{\"anchor\":\"y\",\"domain\":[0.0,1.0],\"title\":{\"text\":\"Genre\"}},\"yaxis\":{\"anchor\":\"x\",\"domain\":[0.0,1.0],\"title\":{\"text\":\"count\"}},\"legend\":{\"title\":{\"text\":\"color\"},\"tracegroupgap\":0},\"title\":{\"text\":\"1. Genre\"},\"barmode\":\"relative\",\"font\":{\"size\":17,\"family\":\"Times New Roman\"}},                        {\"responsive\": true}                    ).then(function(){\n",
       "                            \n",
       "var gd = document.getElementById('6436bd78-0466-4723-bc19-d6de4e152131');\n",
       "var x = new MutationObserver(function (mutations, observer) {{\n",
       "        var display = window.getComputedStyle(gd).display;\n",
       "        if (!display || display === 'none') {{\n",
       "            console.log([gd, 'removed!']);\n",
       "            Plotly.purge(gd);\n",
       "            observer.disconnect();\n",
       "        }}\n",
       "}});\n",
       "\n",
       "// Listen for the removal of the full notebook cells\n",
       "var notebookContainer = gd.closest('#notebook-container');\n",
       "if (notebookContainer) {{\n",
       "    x.observe(notebookContainer, {childList: true});\n",
       "}}\n",
       "\n",
       "// Listen for the clearing of the current output cell\n",
       "var outputEl = gd.closest('.output');\n",
       "if (outputEl) {{\n",
       "    x.observe(outputEl, {childList: true});\n",
       "}}\n",
       "\n",
       "                        })                };                });            </script>        </div>"
      ]
     },
     "metadata": {},
     "output_type": "display_data"
    }
   ],
   "source": [
    "dg_genre = hollywood.Genre.value_counts()\n",
    "plotly_bar(dg_genre, \"1. Genre\", 'Genre', 'count')"
   ]
  },
  {
   "cell_type": "markdown",
   "id": "50c4fd41",
   "metadata": {
    "papermill": {
     "duration": 0.015057,
     "end_time": "2023-07-20T14:33:28.824128",
     "exception": false,
     "start_time": "2023-07-20T14:33:28.809071",
     "status": "completed"
    },
    "tags": []
   },
   "source": [
    "> Genre mostly consists of \"Comedy\", next is \"Romance\" and \"Drama\""
   ]
  },
  {
   "cell_type": "code",
   "execution_count": 16,
   "id": "23f796f8",
   "metadata": {
    "execution": {
     "iopub.execute_input": "2023-07-20T14:33:28.858113Z",
     "iopub.status.busy": "2023-07-20T14:33:28.857654Z",
     "iopub.status.idle": "2023-07-20T14:33:28.996638Z",
     "shell.execute_reply": "2023-07-20T14:33:28.995522Z"
    },
    "papermill": {
     "duration": 0.158327,
     "end_time": "2023-07-20T14:33:28.999174",
     "exception": false,
     "start_time": "2023-07-20T14:33:28.840847",
     "status": "completed"
    },
    "tags": []
   },
   "outputs": [
    {
     "data": {
      "text/html": [
       "<div>                            <div id=\"40c68d86-0830-46ee-800a-9cf38c950016\" class=\"plotly-graph-div\" style=\"height:525px; width:100%;\"></div>            <script type=\"text/javascript\">                require([\"plotly\"], function(Plotly) {                    window.PLOTLYENV=window.PLOTLYENV || {};                                    if (document.getElementById(\"40c68d86-0830-46ee-800a-9cf38c950016\")) {                    Plotly.newPlot(                        \"40c68d86-0830-46ee-800a-9cf38c950016\",                        [{\"alignmentgroup\":\"True\",\"hovertemplate\":\"color=Independent\\u003cbr\\u003ex=%{x}\\u003cbr\\u003ey=%{y}\\u003cbr\\u003etext=%{text}\\u003cextra\\u003e\\u003c\\u002fextra\\u003e\",\"legendgroup\":\"Independent\",\"marker\":{\"color\":\"rgb(133, 92, 117)\",\"pattern\":{\"shape\":\"\"}},\"name\":\"Independent\",\"offsetgroup\":\"Independent\",\"orientation\":\"v\",\"showlegend\":true,\"text\":[19.0],\"textposition\":\"auto\",\"x\":[\"Independent\"],\"xaxis\":\"x\",\"y\":[19],\"yaxis\":\"y\",\"type\":\"bar\"},{\"alignmentgroup\":\"True\",\"hovertemplate\":\"color=Warner Bros.\\u003cbr\\u003ex=%{x}\\u003cbr\\u003ey=%{y}\\u003cbr\\u003etext=%{text}\\u003cextra\\u003e\\u003c\\u002fextra\\u003e\",\"legendgroup\":\"Warner Bros.\",\"marker\":{\"color\":\"rgb(217, 175, 107)\",\"pattern\":{\"shape\":\"\"}},\"name\":\"Warner Bros.\",\"offsetgroup\":\"Warner Bros.\",\"orientation\":\"v\",\"showlegend\":true,\"text\":[12.0],\"textposition\":\"auto\",\"x\":[\"Warner Bros.\"],\"xaxis\":\"x\",\"y\":[12],\"yaxis\":\"y\",\"type\":\"bar\"},{\"alignmentgroup\":\"True\",\"hovertemplate\":\"color=Disney\\u003cbr\\u003ex=%{x}\\u003cbr\\u003ey=%{y}\\u003cbr\\u003etext=%{text}\\u003cextra\\u003e\\u003c\\u002fextra\\u003e\",\"legendgroup\":\"Disney\",\"marker\":{\"color\":\"rgb(175, 100, 88)\",\"pattern\":{\"shape\":\"\"}},\"name\":\"Disney\",\"offsetgroup\":\"Disney\",\"orientation\":\"v\",\"showlegend\":true,\"text\":[7.0],\"textposition\":\"auto\",\"x\":[\"Disney\"],\"xaxis\":\"x\",\"y\":[7],\"yaxis\":\"y\",\"type\":\"bar\"},{\"alignmentgroup\":\"True\",\"hovertemplate\":\"color=Universal\\u003cbr\\u003ex=%{x}\\u003cbr\\u003ey=%{y}\\u003cbr\\u003etext=%{text}\\u003cextra\\u003e\\u003c\\u002fextra\\u003e\",\"legendgroup\":\"Universal\",\"marker\":{\"color\":\"rgb(115, 111, 76)\",\"pattern\":{\"shape\":\"\"}},\"name\":\"Universal\",\"offsetgroup\":\"Universal\",\"orientation\":\"v\",\"showlegend\":true,\"text\":[7.0],\"textposition\":\"auto\",\"x\":[\"Universal\"],\"xaxis\":\"x\",\"y\":[7],\"yaxis\":\"y\",\"type\":\"bar\"},{\"alignmentgroup\":\"True\",\"hovertemplate\":\"color=Fox\\u003cbr\\u003ex=%{x}\\u003cbr\\u003ey=%{y}\\u003cbr\\u003etext=%{text}\\u003cextra\\u003e\\u003c\\u002fextra\\u003e\",\"legendgroup\":\"Fox\",\"marker\":{\"color\":\"rgb(82, 106, 131)\",\"pattern\":{\"shape\":\"\"}},\"name\":\"Fox\",\"offsetgroup\":\"Fox\",\"orientation\":\"v\",\"showlegend\":true,\"text\":[6.0],\"textposition\":\"auto\",\"x\":[\"Fox\"],\"xaxis\":\"x\",\"y\":[6],\"yaxis\":\"y\",\"type\":\"bar\"},{\"alignmentgroup\":\"True\",\"hovertemplate\":\"color=Summit\\u003cbr\\u003ex=%{x}\\u003cbr\\u003ey=%{y}\\u003cbr\\u003etext=%{text}\\u003cextra\\u003e\\u003c\\u002fextra\\u003e\",\"legendgroup\":\"Summit\",\"marker\":{\"color\":\"rgb(98, 83, 119)\",\"pattern\":{\"shape\":\"\"}},\"name\":\"Summit\",\"offsetgroup\":\"Summit\",\"orientation\":\"v\",\"showlegend\":true,\"text\":[5.0],\"textposition\":\"auto\",\"x\":[\"Summit\"],\"xaxis\":\"x\",\"y\":[5],\"yaxis\":\"y\",\"type\":\"bar\"},{\"alignmentgroup\":\"True\",\"hovertemplate\":\"color=Paramount\\u003cbr\\u003ex=%{x}\\u003cbr\\u003ey=%{y}\\u003cbr\\u003etext=%{text}\\u003cextra\\u003e\\u003c\\u002fextra\\u003e\",\"legendgroup\":\"Paramount\",\"marker\":{\"color\":\"rgb(104, 133, 92)\",\"pattern\":{\"shape\":\"\"}},\"name\":\"Paramount\",\"offsetgroup\":\"Paramount\",\"orientation\":\"v\",\"showlegend\":true,\"text\":[4.0],\"textposition\":\"auto\",\"x\":[\"Paramount\"],\"xaxis\":\"x\",\"y\":[4],\"yaxis\":\"y\",\"type\":\"bar\"},{\"alignmentgroup\":\"True\",\"hovertemplate\":\"color=Sony\\u003cbr\\u003ex=%{x}\\u003cbr\\u003ey=%{y}\\u003cbr\\u003etext=%{text}\\u003cextra\\u003e\\u003c\\u002fextra\\u003e\",\"legendgroup\":\"Sony\",\"marker\":{\"color\":\"rgb(156, 156, 94)\",\"pattern\":{\"shape\":\"\"}},\"name\":\"Sony\",\"offsetgroup\":\"Sony\",\"orientation\":\"v\",\"showlegend\":true,\"text\":[4.0],\"textposition\":\"auto\",\"x\":[\"Sony\"],\"xaxis\":\"x\",\"y\":[4],\"yaxis\":\"y\",\"type\":\"bar\"},{\"alignmentgroup\":\"True\",\"hovertemplate\":\"color=The Weinstein Company\\u003cbr\\u003ex=%{x}\\u003cbr\\u003ey=%{y}\\u003cbr\\u003etext=%{text}\\u003cextra\\u003e\\u003c\\u002fextra\\u003e\",\"legendgroup\":\"The Weinstein Company\",\"marker\":{\"color\":\"rgb(160, 97, 119)\",\"pattern\":{\"shape\":\"\"}},\"name\":\"The Weinstein Company\",\"offsetgroup\":\"The Weinstein Company\",\"orientation\":\"v\",\"showlegend\":true,\"text\":[3.0],\"textposition\":\"auto\",\"x\":[\"The Weinstein Company\"],\"xaxis\":\"x\",\"y\":[3],\"yaxis\":\"y\",\"type\":\"bar\"},{\"alignmentgroup\":\"True\",\"hovertemplate\":\"color=20th Century Fox\\u003cbr\\u003ex=%{x}\\u003cbr\\u003ey=%{y}\\u003cbr\\u003etext=%{text}\\u003cextra\\u003e\\u003c\\u002fextra\\u003e\",\"legendgroup\":\"20th Century Fox\",\"marker\":{\"color\":\"rgb(140, 120, 93)\",\"pattern\":{\"shape\":\"\"}},\"name\":\"20th Century Fox\",\"offsetgroup\":\"20th Century Fox\",\"orientation\":\"v\",\"showlegend\":true,\"text\":[2.0],\"textposition\":\"auto\",\"x\":[\"20th Century Fox\"],\"xaxis\":\"x\",\"y\":[2],\"yaxis\":\"y\",\"type\":\"bar\"},{\"alignmentgroup\":\"True\",\"hovertemplate\":\"color=Lionsgate\\u003cbr\\u003ex=%{x}\\u003cbr\\u003ey=%{y}\\u003cbr\\u003etext=%{text}\\u003cextra\\u003e\\u003c\\u002fextra\\u003e\",\"legendgroup\":\"Lionsgate\",\"marker\":{\"color\":\"rgb(124, 124, 124)\",\"pattern\":{\"shape\":\"\"}},\"name\":\"Lionsgate\",\"offsetgroup\":\"Lionsgate\",\"orientation\":\"v\",\"showlegend\":true,\"text\":[2.0],\"textposition\":\"auto\",\"x\":[\"Lionsgate\"],\"xaxis\":\"x\",\"y\":[2],\"yaxis\":\"y\",\"type\":\"bar\"},{\"alignmentgroup\":\"True\",\"hovertemplate\":\"color=CBS\\u003cbr\\u003ex=%{x}\\u003cbr\\u003ey=%{y}\\u003cbr\\u003etext=%{text}\\u003cextra\\u003e\\u003c\\u002fextra\\u003e\",\"legendgroup\":\"CBS\",\"marker\":{\"color\":\"rgb(133, 92, 117)\",\"pattern\":{\"shape\":\"\"}},\"name\":\"CBS\",\"offsetgroup\":\"CBS\",\"orientation\":\"v\",\"showlegend\":true,\"text\":[1.0],\"textposition\":\"auto\",\"x\":[\"CBS\"],\"xaxis\":\"x\",\"y\":[1],\"yaxis\":\"y\",\"type\":\"bar\"},{\"alignmentgroup\":\"True\",\"hovertemplate\":\"color=New Line\\u003cbr\\u003ex=%{x}\\u003cbr\\u003ey=%{y}\\u003cbr\\u003etext=%{text}\\u003cextra\\u003e\\u003c\\u002fextra\\u003e\",\"legendgroup\":\"New Line\",\"marker\":{\"color\":\"rgb(217, 175, 107)\",\"pattern\":{\"shape\":\"\"}},\"name\":\"New Line\",\"offsetgroup\":\"New Line\",\"orientation\":\"v\",\"showlegend\":true,\"text\":[1.0],\"textposition\":\"auto\",\"x\":[\"New Line\"],\"xaxis\":\"x\",\"y\":[1],\"yaxis\":\"y\",\"type\":\"bar\"}],                        {\"template\":{\"data\":{\"barpolar\":[{\"marker\":{\"line\":{\"color\":\"rgb(237,237,237)\",\"width\":0.5},\"pattern\":{\"fillmode\":\"overlay\",\"size\":10,\"solidity\":0.2}},\"type\":\"barpolar\"}],\"bar\":[{\"error_x\":{\"color\":\"rgb(51,51,51)\"},\"error_y\":{\"color\":\"rgb(51,51,51)\"},\"marker\":{\"line\":{\"color\":\"rgb(237,237,237)\",\"width\":0.5},\"pattern\":{\"fillmode\":\"overlay\",\"size\":10,\"solidity\":0.2}},\"type\":\"bar\"}],\"carpet\":[{\"aaxis\":{\"endlinecolor\":\"rgb(51,51,51)\",\"gridcolor\":\"white\",\"linecolor\":\"white\",\"minorgridcolor\":\"white\",\"startlinecolor\":\"rgb(51,51,51)\"},\"baxis\":{\"endlinecolor\":\"rgb(51,51,51)\",\"gridcolor\":\"white\",\"linecolor\":\"white\",\"minorgridcolor\":\"white\",\"startlinecolor\":\"rgb(51,51,51)\"},\"type\":\"carpet\"}],\"choropleth\":[{\"colorbar\":{\"outlinewidth\":0,\"tickcolor\":\"rgb(237,237,237)\",\"ticklen\":6,\"ticks\":\"inside\"},\"type\":\"choropleth\"}],\"contourcarpet\":[{\"colorbar\":{\"outlinewidth\":0,\"tickcolor\":\"rgb(237,237,237)\",\"ticklen\":6,\"ticks\":\"inside\"},\"type\":\"contourcarpet\"}],\"contour\":[{\"colorbar\":{\"outlinewidth\":0,\"tickcolor\":\"rgb(237,237,237)\",\"ticklen\":6,\"ticks\":\"inside\"},\"colorscale\":[[0,\"rgb(20,44,66)\"],[1,\"rgb(90,179,244)\"]],\"type\":\"contour\"}],\"heatmapgl\":[{\"colorbar\":{\"outlinewidth\":0,\"tickcolor\":\"rgb(237,237,237)\",\"ticklen\":6,\"ticks\":\"inside\"},\"colorscale\":[[0,\"rgb(20,44,66)\"],[1,\"rgb(90,179,244)\"]],\"type\":\"heatmapgl\"}],\"heatmap\":[{\"colorbar\":{\"outlinewidth\":0,\"tickcolor\":\"rgb(237,237,237)\",\"ticklen\":6,\"ticks\":\"inside\"},\"colorscale\":[[0,\"rgb(20,44,66)\"],[1,\"rgb(90,179,244)\"]],\"type\":\"heatmap\"}],\"histogram2dcontour\":[{\"colorbar\":{\"outlinewidth\":0,\"tickcolor\":\"rgb(237,237,237)\",\"ticklen\":6,\"ticks\":\"inside\"},\"colorscale\":[[0,\"rgb(20,44,66)\"],[1,\"rgb(90,179,244)\"]],\"type\":\"histogram2dcontour\"}],\"histogram2d\":[{\"colorbar\":{\"outlinewidth\":0,\"tickcolor\":\"rgb(237,237,237)\",\"ticklen\":6,\"ticks\":\"inside\"},\"colorscale\":[[0,\"rgb(20,44,66)\"],[1,\"rgb(90,179,244)\"]],\"type\":\"histogram2d\"}],\"histogram\":[{\"marker\":{\"pattern\":{\"fillmode\":\"overlay\",\"size\":10,\"solidity\":0.2}},\"type\":\"histogram\"}],\"mesh3d\":[{\"colorbar\":{\"outlinewidth\":0,\"tickcolor\":\"rgb(237,237,237)\",\"ticklen\":6,\"ticks\":\"inside\"},\"type\":\"mesh3d\"}],\"parcoords\":[{\"line\":{\"colorbar\":{\"outlinewidth\":0,\"tickcolor\":\"rgb(237,237,237)\",\"ticklen\":6,\"ticks\":\"inside\"}},\"type\":\"parcoords\"}],\"pie\":[{\"automargin\":true,\"type\":\"pie\"}],\"scatter3d\":[{\"line\":{\"colorbar\":{\"outlinewidth\":0,\"tickcolor\":\"rgb(237,237,237)\",\"ticklen\":6,\"ticks\":\"inside\"}},\"marker\":{\"colorbar\":{\"outlinewidth\":0,\"tickcolor\":\"rgb(237,237,237)\",\"ticklen\":6,\"ticks\":\"inside\"}},\"type\":\"scatter3d\"}],\"scattercarpet\":[{\"marker\":{\"colorbar\":{\"outlinewidth\":0,\"tickcolor\":\"rgb(237,237,237)\",\"ticklen\":6,\"ticks\":\"inside\"}},\"type\":\"scattercarpet\"}],\"scattergeo\":[{\"marker\":{\"colorbar\":{\"outlinewidth\":0,\"tickcolor\":\"rgb(237,237,237)\",\"ticklen\":6,\"ticks\":\"inside\"}},\"type\":\"scattergeo\"}],\"scattergl\":[{\"marker\":{\"colorbar\":{\"outlinewidth\":0,\"tickcolor\":\"rgb(237,237,237)\",\"ticklen\":6,\"ticks\":\"inside\"}},\"type\":\"scattergl\"}],\"scattermapbox\":[{\"marker\":{\"colorbar\":{\"outlinewidth\":0,\"tickcolor\":\"rgb(237,237,237)\",\"ticklen\":6,\"ticks\":\"inside\"}},\"type\":\"scattermapbox\"}],\"scatterpolargl\":[{\"marker\":{\"colorbar\":{\"outlinewidth\":0,\"tickcolor\":\"rgb(237,237,237)\",\"ticklen\":6,\"ticks\":\"inside\"}},\"type\":\"scatterpolargl\"}],\"scatterpolar\":[{\"marker\":{\"colorbar\":{\"outlinewidth\":0,\"tickcolor\":\"rgb(237,237,237)\",\"ticklen\":6,\"ticks\":\"inside\"}},\"type\":\"scatterpolar\"}],\"scatter\":[{\"fillpattern\":{\"fillmode\":\"overlay\",\"size\":10,\"solidity\":0.2},\"type\":\"scatter\"}],\"scatterternary\":[{\"marker\":{\"colorbar\":{\"outlinewidth\":0,\"tickcolor\":\"rgb(237,237,237)\",\"ticklen\":6,\"ticks\":\"inside\"}},\"type\":\"scatterternary\"}],\"surface\":[{\"colorbar\":{\"outlinewidth\":0,\"tickcolor\":\"rgb(237,237,237)\",\"ticklen\":6,\"ticks\":\"inside\"},\"colorscale\":[[0,\"rgb(20,44,66)\"],[1,\"rgb(90,179,244)\"]],\"type\":\"surface\"}],\"table\":[{\"cells\":{\"fill\":{\"color\":\"rgb(237,237,237)\"},\"line\":{\"color\":\"white\"}},\"header\":{\"fill\":{\"color\":\"rgb(217,217,217)\"},\"line\":{\"color\":\"white\"}},\"type\":\"table\"}]},\"layout\":{\"annotationdefaults\":{\"arrowhead\":0,\"arrowwidth\":1},\"autotypenumbers\":\"strict\",\"coloraxis\":{\"colorbar\":{\"outlinewidth\":0,\"tickcolor\":\"rgb(237,237,237)\",\"ticklen\":6,\"ticks\":\"inside\"}},\"colorscale\":{\"sequential\":[[0,\"rgb(20,44,66)\"],[1,\"rgb(90,179,244)\"]],\"sequentialminus\":[[0,\"rgb(20,44,66)\"],[1,\"rgb(90,179,244)\"]]},\"colorway\":[\"#F8766D\",\"#A3A500\",\"#00BF7D\",\"#00B0F6\",\"#E76BF3\"],\"font\":{\"color\":\"rgb(51,51,51)\"},\"geo\":{\"bgcolor\":\"white\",\"lakecolor\":\"white\",\"landcolor\":\"rgb(237,237,237)\",\"showlakes\":true,\"showland\":true,\"subunitcolor\":\"white\"},\"hoverlabel\":{\"align\":\"left\"},\"hovermode\":\"closest\",\"paper_bgcolor\":\"white\",\"plot_bgcolor\":\"rgb(237,237,237)\",\"polar\":{\"angularaxis\":{\"gridcolor\":\"white\",\"linecolor\":\"white\",\"showgrid\":true,\"tickcolor\":\"rgb(51,51,51)\",\"ticks\":\"outside\"},\"bgcolor\":\"rgb(237,237,237)\",\"radialaxis\":{\"gridcolor\":\"white\",\"linecolor\":\"white\",\"showgrid\":true,\"tickcolor\":\"rgb(51,51,51)\",\"ticks\":\"outside\"}},\"scene\":{\"xaxis\":{\"backgroundcolor\":\"rgb(237,237,237)\",\"gridcolor\":\"white\",\"gridwidth\":2,\"linecolor\":\"white\",\"showbackground\":true,\"showgrid\":true,\"tickcolor\":\"rgb(51,51,51)\",\"ticks\":\"outside\",\"zerolinecolor\":\"white\"},\"yaxis\":{\"backgroundcolor\":\"rgb(237,237,237)\",\"gridcolor\":\"white\",\"gridwidth\":2,\"linecolor\":\"white\",\"showbackground\":true,\"showgrid\":true,\"tickcolor\":\"rgb(51,51,51)\",\"ticks\":\"outside\",\"zerolinecolor\":\"white\"},\"zaxis\":{\"backgroundcolor\":\"rgb(237,237,237)\",\"gridcolor\":\"white\",\"gridwidth\":2,\"linecolor\":\"white\",\"showbackground\":true,\"showgrid\":true,\"tickcolor\":\"rgb(51,51,51)\",\"ticks\":\"outside\",\"zerolinecolor\":\"white\"}},\"shapedefaults\":{\"fillcolor\":\"black\",\"line\":{\"width\":0},\"opacity\":0.3},\"ternary\":{\"aaxis\":{\"gridcolor\":\"white\",\"linecolor\":\"white\",\"showgrid\":true,\"tickcolor\":\"rgb(51,51,51)\",\"ticks\":\"outside\"},\"baxis\":{\"gridcolor\":\"white\",\"linecolor\":\"white\",\"showgrid\":true,\"tickcolor\":\"rgb(51,51,51)\",\"ticks\":\"outside\"},\"bgcolor\":\"rgb(237,237,237)\",\"caxis\":{\"gridcolor\":\"white\",\"linecolor\":\"white\",\"showgrid\":true,\"tickcolor\":\"rgb(51,51,51)\",\"ticks\":\"outside\"}},\"xaxis\":{\"automargin\":true,\"gridcolor\":\"white\",\"linecolor\":\"white\",\"showgrid\":true,\"tickcolor\":\"rgb(51,51,51)\",\"ticks\":\"outside\",\"title\":{\"standoff\":15},\"zerolinecolor\":\"white\"},\"yaxis\":{\"automargin\":true,\"gridcolor\":\"white\",\"linecolor\":\"white\",\"showgrid\":true,\"tickcolor\":\"rgb(51,51,51)\",\"ticks\":\"outside\",\"title\":{\"standoff\":15},\"zerolinecolor\":\"white\"}}},\"xaxis\":{\"anchor\":\"y\",\"domain\":[0.0,1.0],\"title\":{\"text\":\"Studio Name\"}},\"yaxis\":{\"anchor\":\"x\",\"domain\":[0.0,1.0],\"title\":{\"text\":\"count\"}},\"legend\":{\"title\":{\"text\":\"color\"},\"tracegroupgap\":0},\"title\":{\"text\":\"2. Lead Studio\"},\"barmode\":\"relative\",\"font\":{\"size\":17,\"family\":\"Times New Roman\"}},                        {\"responsive\": true}                    ).then(function(){\n",
       "                            \n",
       "var gd = document.getElementById('40c68d86-0830-46ee-800a-9cf38c950016');\n",
       "var x = new MutationObserver(function (mutations, observer) {{\n",
       "        var display = window.getComputedStyle(gd).display;\n",
       "        if (!display || display === 'none') {{\n",
       "            console.log([gd, 'removed!']);\n",
       "            Plotly.purge(gd);\n",
       "            observer.disconnect();\n",
       "        }}\n",
       "}});\n",
       "\n",
       "// Listen for the removal of the full notebook cells\n",
       "var notebookContainer = gd.closest('#notebook-container');\n",
       "if (notebookContainer) {{\n",
       "    x.observe(notebookContainer, {childList: true});\n",
       "}}\n",
       "\n",
       "// Listen for the clearing of the current output cell\n",
       "var outputEl = gd.closest('.output');\n",
       "if (outputEl) {{\n",
       "    x.observe(outputEl, {childList: true});\n",
       "}}\n",
       "\n",
       "                        })                };                });            </script>        </div>"
      ]
     },
     "metadata": {},
     "output_type": "display_data"
    }
   ],
   "source": [
    "df_LS = hollywood.groupby('Lead_Studio').size().sort_values(ascending=False)\n",
    "plotly_bar(df_LS, '2. Lead Studio', 'Studio Name', 'count')"
   ]
  },
  {
   "cell_type": "markdown",
   "id": "a724d05b",
   "metadata": {
    "papermill": {
     "duration": 0.015782,
     "end_time": "2023-07-20T14:33:29.031651",
     "exception": false,
     "start_time": "2023-07-20T14:33:29.015869",
     "status": "completed"
    },
    "tags": []
   },
   "source": [
    "* Independent studios make number 1 of the list.\n",
    "* Warner Bros also comes close by 2\n",
    "* Universal and Disney share the same vakue"
   ]
  },
  {
   "cell_type": "markdown",
   "id": "cbcc2036",
   "metadata": {
    "papermill": {
     "duration": 0.015445,
     "end_time": "2023-07-20T14:33:29.062982",
     "exception": false,
     "start_time": "2023-07-20T14:33:29.047537",
     "status": "completed"
    },
    "tags": []
   },
   "source": [
    "checking the outliers of the numeric columns"
   ]
  },
  {
   "cell_type": "code",
   "execution_count": 17,
   "id": "f49e85b2",
   "metadata": {
    "execution": {
     "iopub.execute_input": "2023-07-20T14:33:29.096833Z",
     "iopub.status.busy": "2023-07-20T14:33:29.096403Z",
     "iopub.status.idle": "2023-07-20T14:33:29.155783Z",
     "shell.execute_reply": "2023-07-20T14:33:29.154572Z"
    },
    "papermill": {
     "duration": 0.079171,
     "end_time": "2023-07-20T14:33:29.158468",
     "exception": false,
     "start_time": "2023-07-20T14:33:29.079297",
     "status": "completed"
    },
    "tags": []
   },
   "outputs": [
    {
     "data": {
      "text/html": [
       "<div>                            <div id=\"c66972ae-7fcd-4ba7-a02c-47e515d213f8\" class=\"plotly-graph-div\" style=\"height:900px; width:900px;\"></div>            <script type=\"text/javascript\">                require([\"plotly\"], function(Plotly) {                    window.PLOTLYENV=window.PLOTLYENV || {};                                    if (document.getElementById(\"c66972ae-7fcd-4ba7-a02c-47e515d213f8\")) {                    Plotly.newPlot(                        \"c66972ae-7fcd-4ba7-a02c-47e515d213f8\",                        [{\"dimensions\":[{\"label\":\"Audience__score_%\",\"values\":[71.0,81.0,89.0,64.0,84.0,80.0,66.0,80.0,51.0,52.0,47.0,52.0,56.0,61.0,60.0,76.0,57.0,63.0,77.0,58.0,45.0,83.0,49.0,62.0,55.0,62.0,55.0,40.0,61.0,76.0,77.0,84.0,70.0,50.0,70.0,84.0,48.0,67.0,64.0,66.0,54.0,49.0,47.0,82.0,74.0,61.0,70.0,81.0,49.0,60.0,null,88.0,47.0,81.0,68.0,41.0,47.0,74.0,65.0,78.0,68.0,82.0,68.0,47.0,54.0,53.0,67.0,89.0,72.0,72.0,44.0,35.0,52.0,70.0]},{\"label\":\"Profitability\",\"values\":[5.3436218,8.096,0.44864475,4.382857143,0.652603178,4.471875,4.5988,4.005737082,66.934,2.022925,2.0444,5.387972222,1.3140625,2.36768512,7.1536,22.91313646,1.34,2.642352941,null,1.797416667,1.245333333,6.636401848,1.715263158,2.639333333,1.9802064,2.530526316,1.817666667,2.004444444,2.64906835,9.234453864,3.746781818,8.744705882,0.2528949,1.9832,3.64741055,0.8258,2.536428571,3.3527293,3.307180357,2.14,3.682733333,null,2.071,5.103116833,1.382799733,1.384166667,3.49125,7.221795791,2.8835,2.4405,1.719514286,1.365692308,2.202571429,1.78394375,3.207850222,2.129444167,1.751351351,7.8675,2.598205128,14.1964,5.402631579,10.18002703,6.383363636,3.7241924,4.184038462,0.005,11.0897415,2.896019067,3.081421053,6.267647029,null,1.211818182,1.09,1.747541667]},{\"label\":\"Rotten_Tomatoes_%\",\"values\":[40.0,87.0,79.0,89.0,54.0,84.0,29.0,93.0,40.0,26.0,27.0,56.0,53.0,3.0,42.0,65.0,71.0,56.0,85.0,45.0,11.0,91.0,21.0,40.0,8.0,28.0,48.0,18.0,13.0,53.0,63.0,93.0,78.0,38.0,63.0,83.0,8.0,73.0,39.0,34.0,37.0,14.0,15.0,21.0,52.0,85.0,28.0,49.0,15.0,57.0,null,89.0,20.0,73.0,60.0,30.0,56.0,43.0,38.0,27.0,14.0,49.0,26.0,46.0,17.0,6.0,89.0,96.0,60.0,28.0,15.0,43.0,68.0,64.0]},{\"label\":\"Worldwide_Gross\",\"values\":[160.308654,60.72,8.972895,30.68,29.367143,14.31,114.97,340.487652,33.467,161.834,102.22,193.967,42.05,59.192128,178.84,252.044501,20.1,224.6,30.147,21.569,93.4,219.001261,32.59,79.18,69.307224,96.16,54.53,36.08,105.962734,609.473955,206.073,148.66,15.173694,39.664,145.896422,8.258,142.04,33.527293,92.60105,10.7,55.241,21.37,20.71,153.093505,20.741996,16.61,55.86,415.253258,288.35,48.81,60.183,355.08,77.09,285.431,43.305978,127.76665,32.4,314.7,101.33,709.82,205.3,376.661,702.17,55.862886,217.57,0.025,22.179483,521.283432,117.094,219.367646,43.04,26.66,19.62,41.941]}],\"marker\":{\"color\":[2,2,3,3,5,2,3,2,3,2,2,1,2,2,2,2,2,2,5,2,0,2,2,2,2,2,2,3,2,2,2,5,2,5,5,3,5,2,2,3,5,2,2,5,2,3,3,2,2,2,5,1,2,4,3,2,2,2,3,3,2,5,5,5,2,5,5,1,3,2,2,2,2,5],\"line\":{\"color\":\"white\",\"width\":0.5},\"showscale\":false},\"showupperhalf\":false,\"text\":[\"27 Dresses\",\"(500) Days of Summer\",\"A Dangerous Method\",\"A Serious Man\",\"Across the Universe\",\"Beginners\",\"Dear John\",\"Enchanted\",\"Fireproof\",\"Four Christmases\",\"Ghosts of Girlfriends Past\",\"Gnomeo and Juliet\",\"Going the Distance\",\"Good Luck Chuck\",\"He's Just Not That Into You\",\"High School Musical 3: Senior Year\",\"I Love You Phillip Morris\",\"It's Complicated\",\"Jane Eyre\",\"Just Wright\",\"Killers\",\"Knocked Up\",\"Leap Year\",\"Letters to Juliet\",\"License to Wed\",\"Life as We Know It\",\"Love & Other Drugs\",\"Love Happens\",\"Made of Honor\",\"Mamma Mia!\",\"Marley and Me\",\"Midnight in Paris\",\"Miss Pettigrew Lives for a Day\",\"Monte Carlo\",\"Music and Lyrics\",\"My Week with Marilyn\",\"New Year's Eve\",\"Nick and Norah's Infinite Playlist\",\"No Reservations\",\"Not Easily Broken\",\"One Day\",\"Our Family Wedding\",\"Over Her Dead Body\",\"P.S. I Love You\",\"Penelope\",\"Rachel Getting Married\",\"Remember Me\",\"Sex and the City\",\"Sex and the City 2\",\"She's Out of My League\",\"Something Borrowed\",\"Tangled\",\"The Back-up Plan\",\"The Curious Case of Benjamin Button\",\"The Duchess\",\"The Heartbreak Kid\",\"The Invention of Lying\",\"The Proposal\",\"The Time Traveler's Wife\",\"The Twilight Saga: New Moon\",\"The Ugly Truth\",\"Twilight\",\"Twilight: Breaking Dawn\",\"Tyler Perry's Why Did I get Married\",\"Valentine's Day\",\"Waiting For Forever\",\"Waitress\",\"WALL-E\",\"Water For Elephants\",\"What Happens in Vegas\",\"When in Rome\",\"You Will Meet a Tall Dark Stranger\",\"Youth in Revolt\",\"Zack and Miri Make a Porno\"],\"type\":\"splom\"}],                        {\"template\":{\"data\":{\"histogram2dcontour\":[{\"type\":\"histogram2dcontour\",\"colorbar\":{\"outlinewidth\":0,\"ticks\":\"\"},\"colorscale\":[[0.0,\"#0d0887\"],[0.1111111111111111,\"#46039f\"],[0.2222222222222222,\"#7201a8\"],[0.3333333333333333,\"#9c179e\"],[0.4444444444444444,\"#bd3786\"],[0.5555555555555556,\"#d8576b\"],[0.6666666666666666,\"#ed7953\"],[0.7777777777777778,\"#fb9f3a\"],[0.8888888888888888,\"#fdca26\"],[1.0,\"#f0f921\"]]}],\"choropleth\":[{\"type\":\"choropleth\",\"colorbar\":{\"outlinewidth\":0,\"ticks\":\"\"}}],\"histogram2d\":[{\"type\":\"histogram2d\",\"colorbar\":{\"outlinewidth\":0,\"ticks\":\"\"},\"colorscale\":[[0.0,\"#0d0887\"],[0.1111111111111111,\"#46039f\"],[0.2222222222222222,\"#7201a8\"],[0.3333333333333333,\"#9c179e\"],[0.4444444444444444,\"#bd3786\"],[0.5555555555555556,\"#d8576b\"],[0.6666666666666666,\"#ed7953\"],[0.7777777777777778,\"#fb9f3a\"],[0.8888888888888888,\"#fdca26\"],[1.0,\"#f0f921\"]]}],\"heatmap\":[{\"type\":\"heatmap\",\"colorbar\":{\"outlinewidth\":0,\"ticks\":\"\"},\"colorscale\":[[0.0,\"#0d0887\"],[0.1111111111111111,\"#46039f\"],[0.2222222222222222,\"#7201a8\"],[0.3333333333333333,\"#9c179e\"],[0.4444444444444444,\"#bd3786\"],[0.5555555555555556,\"#d8576b\"],[0.6666666666666666,\"#ed7953\"],[0.7777777777777778,\"#fb9f3a\"],[0.8888888888888888,\"#fdca26\"],[1.0,\"#f0f921\"]]}],\"heatmapgl\":[{\"type\":\"heatmapgl\",\"colorbar\":{\"outlinewidth\":0,\"ticks\":\"\"},\"colorscale\":[[0.0,\"#0d0887\"],[0.1111111111111111,\"#46039f\"],[0.2222222222222222,\"#7201a8\"],[0.3333333333333333,\"#9c179e\"],[0.4444444444444444,\"#bd3786\"],[0.5555555555555556,\"#d8576b\"],[0.6666666666666666,\"#ed7953\"],[0.7777777777777778,\"#fb9f3a\"],[0.8888888888888888,\"#fdca26\"],[1.0,\"#f0f921\"]]}],\"contourcarpet\":[{\"type\":\"contourcarpet\",\"colorbar\":{\"outlinewidth\":0,\"ticks\":\"\"}}],\"contour\":[{\"type\":\"contour\",\"colorbar\":{\"outlinewidth\":0,\"ticks\":\"\"},\"colorscale\":[[0.0,\"#0d0887\"],[0.1111111111111111,\"#46039f\"],[0.2222222222222222,\"#7201a8\"],[0.3333333333333333,\"#9c179e\"],[0.4444444444444444,\"#bd3786\"],[0.5555555555555556,\"#d8576b\"],[0.6666666666666666,\"#ed7953\"],[0.7777777777777778,\"#fb9f3a\"],[0.8888888888888888,\"#fdca26\"],[1.0,\"#f0f921\"]]}],\"surface\":[{\"type\":\"surface\",\"colorbar\":{\"outlinewidth\":0,\"ticks\":\"\"},\"colorscale\":[[0.0,\"#0d0887\"],[0.1111111111111111,\"#46039f\"],[0.2222222222222222,\"#7201a8\"],[0.3333333333333333,\"#9c179e\"],[0.4444444444444444,\"#bd3786\"],[0.5555555555555556,\"#d8576b\"],[0.6666666666666666,\"#ed7953\"],[0.7777777777777778,\"#fb9f3a\"],[0.8888888888888888,\"#fdca26\"],[1.0,\"#f0f921\"]]}],\"mesh3d\":[{\"type\":\"mesh3d\",\"colorbar\":{\"outlinewidth\":0,\"ticks\":\"\"}}],\"scatter\":[{\"fillpattern\":{\"fillmode\":\"overlay\",\"size\":10,\"solidity\":0.2},\"type\":\"scatter\"}],\"parcoords\":[{\"type\":\"parcoords\",\"line\":{\"colorbar\":{\"outlinewidth\":0,\"ticks\":\"\"}}}],\"scatterpolargl\":[{\"type\":\"scatterpolargl\",\"marker\":{\"colorbar\":{\"outlinewidth\":0,\"ticks\":\"\"}}}],\"bar\":[{\"error_x\":{\"color\":\"#2a3f5f\"},\"error_y\":{\"color\":\"#2a3f5f\"},\"marker\":{\"line\":{\"color\":\"#E5ECF6\",\"width\":0.5},\"pattern\":{\"fillmode\":\"overlay\",\"size\":10,\"solidity\":0.2}},\"type\":\"bar\"}],\"scattergeo\":[{\"type\":\"scattergeo\",\"marker\":{\"colorbar\":{\"outlinewidth\":0,\"ticks\":\"\"}}}],\"scatterpolar\":[{\"type\":\"scatterpolar\",\"marker\":{\"colorbar\":{\"outlinewidth\":0,\"ticks\":\"\"}}}],\"histogram\":[{\"marker\":{\"pattern\":{\"fillmode\":\"overlay\",\"size\":10,\"solidity\":0.2}},\"type\":\"histogram\"}],\"scattergl\":[{\"type\":\"scattergl\",\"marker\":{\"colorbar\":{\"outlinewidth\":0,\"ticks\":\"\"}}}],\"scatter3d\":[{\"type\":\"scatter3d\",\"line\":{\"colorbar\":{\"outlinewidth\":0,\"ticks\":\"\"}},\"marker\":{\"colorbar\":{\"outlinewidth\":0,\"ticks\":\"\"}}}],\"scattermapbox\":[{\"type\":\"scattermapbox\",\"marker\":{\"colorbar\":{\"outlinewidth\":0,\"ticks\":\"\"}}}],\"scatterternary\":[{\"type\":\"scatterternary\",\"marker\":{\"colorbar\":{\"outlinewidth\":0,\"ticks\":\"\"}}}],\"scattercarpet\":[{\"type\":\"scattercarpet\",\"marker\":{\"colorbar\":{\"outlinewidth\":0,\"ticks\":\"\"}}}],\"carpet\":[{\"aaxis\":{\"endlinecolor\":\"#2a3f5f\",\"gridcolor\":\"white\",\"linecolor\":\"white\",\"minorgridcolor\":\"white\",\"startlinecolor\":\"#2a3f5f\"},\"baxis\":{\"endlinecolor\":\"#2a3f5f\",\"gridcolor\":\"white\",\"linecolor\":\"white\",\"minorgridcolor\":\"white\",\"startlinecolor\":\"#2a3f5f\"},\"type\":\"carpet\"}],\"table\":[{\"cells\":{\"fill\":{\"color\":\"#EBF0F8\"},\"line\":{\"color\":\"white\"}},\"header\":{\"fill\":{\"color\":\"#C8D4E3\"},\"line\":{\"color\":\"white\"}},\"type\":\"table\"}],\"barpolar\":[{\"marker\":{\"line\":{\"color\":\"#E5ECF6\",\"width\":0.5},\"pattern\":{\"fillmode\":\"overlay\",\"size\":10,\"solidity\":0.2}},\"type\":\"barpolar\"}],\"pie\":[{\"automargin\":true,\"type\":\"pie\"}]},\"layout\":{\"autotypenumbers\":\"strict\",\"colorway\":[\"#636efa\",\"#EF553B\",\"#00cc96\",\"#ab63fa\",\"#FFA15A\",\"#19d3f3\",\"#FF6692\",\"#B6E880\",\"#FF97FF\",\"#FECB52\"],\"font\":{\"color\":\"#2a3f5f\"},\"hovermode\":\"closest\",\"hoverlabel\":{\"align\":\"left\"},\"paper_bgcolor\":\"white\",\"plot_bgcolor\":\"#E5ECF6\",\"polar\":{\"bgcolor\":\"#E5ECF6\",\"angularaxis\":{\"gridcolor\":\"white\",\"linecolor\":\"white\",\"ticks\":\"\"},\"radialaxis\":{\"gridcolor\":\"white\",\"linecolor\":\"white\",\"ticks\":\"\"}},\"ternary\":{\"bgcolor\":\"#E5ECF6\",\"aaxis\":{\"gridcolor\":\"white\",\"linecolor\":\"white\",\"ticks\":\"\"},\"baxis\":{\"gridcolor\":\"white\",\"linecolor\":\"white\",\"ticks\":\"\"},\"caxis\":{\"gridcolor\":\"white\",\"linecolor\":\"white\",\"ticks\":\"\"}},\"coloraxis\":{\"colorbar\":{\"outlinewidth\":0,\"ticks\":\"\"}},\"colorscale\":{\"sequential\":[[0.0,\"#0d0887\"],[0.1111111111111111,\"#46039f\"],[0.2222222222222222,\"#7201a8\"],[0.3333333333333333,\"#9c179e\"],[0.4444444444444444,\"#bd3786\"],[0.5555555555555556,\"#d8576b\"],[0.6666666666666666,\"#ed7953\"],[0.7777777777777778,\"#fb9f3a\"],[0.8888888888888888,\"#fdca26\"],[1.0,\"#f0f921\"]],\"sequentialminus\":[[0.0,\"#0d0887\"],[0.1111111111111111,\"#46039f\"],[0.2222222222222222,\"#7201a8\"],[0.3333333333333333,\"#9c179e\"],[0.4444444444444444,\"#bd3786\"],[0.5555555555555556,\"#d8576b\"],[0.6666666666666666,\"#ed7953\"],[0.7777777777777778,\"#fb9f3a\"],[0.8888888888888888,\"#fdca26\"],[1.0,\"#f0f921\"]],\"diverging\":[[0,\"#8e0152\"],[0.1,\"#c51b7d\"],[0.2,\"#de77ae\"],[0.3,\"#f1b6da\"],[0.4,\"#fde0ef\"],[0.5,\"#f7f7f7\"],[0.6,\"#e6f5d0\"],[0.7,\"#b8e186\"],[0.8,\"#7fbc41\"],[0.9,\"#4d9221\"],[1,\"#276419\"]]},\"xaxis\":{\"gridcolor\":\"white\",\"linecolor\":\"white\",\"ticks\":\"\",\"title\":{\"standoff\":15},\"zerolinecolor\":\"white\",\"automargin\":true,\"zerolinewidth\":2},\"yaxis\":{\"gridcolor\":\"white\",\"linecolor\":\"white\",\"ticks\":\"\",\"title\":{\"standoff\":15},\"zerolinecolor\":\"white\",\"automargin\":true,\"zerolinewidth\":2},\"scene\":{\"xaxis\":{\"backgroundcolor\":\"#E5ECF6\",\"gridcolor\":\"white\",\"linecolor\":\"white\",\"showbackground\":true,\"ticks\":\"\",\"zerolinecolor\":\"white\",\"gridwidth\":2},\"yaxis\":{\"backgroundcolor\":\"#E5ECF6\",\"gridcolor\":\"white\",\"linecolor\":\"white\",\"showbackground\":true,\"ticks\":\"\",\"zerolinecolor\":\"white\",\"gridwidth\":2},\"zaxis\":{\"backgroundcolor\":\"#E5ECF6\",\"gridcolor\":\"white\",\"linecolor\":\"white\",\"showbackground\":true,\"ticks\":\"\",\"zerolinecolor\":\"white\",\"gridwidth\":2}},\"shapedefaults\":{\"line\":{\"color\":\"#2a3f5f\"}},\"annotationdefaults\":{\"arrowcolor\":\"#2a3f5f\",\"arrowhead\":0,\"arrowwidth\":1},\"geo\":{\"bgcolor\":\"white\",\"landcolor\":\"#E5ECF6\",\"subunitcolor\":\"white\",\"showland\":true,\"showlakes\":true,\"lakecolor\":\"white\"},\"title\":{\"x\":0.05},\"mapbox\":{\"style\":\"light\"}}},\"title\":{\"text\":\"Movies\"},\"width\":900,\"height\":900},                        {\"responsive\": true}                    ).then(function(){\n",
       "                            \n",
       "var gd = document.getElementById('c66972ae-7fcd-4ba7-a02c-47e515d213f8');\n",
       "var x = new MutationObserver(function (mutations, observer) {{\n",
       "        var display = window.getComputedStyle(gd).display;\n",
       "        if (!display || display === 'none') {{\n",
       "            console.log([gd, 'removed!']);\n",
       "            Plotly.purge(gd);\n",
       "            observer.disconnect();\n",
       "        }}\n",
       "}});\n",
       "\n",
       "// Listen for the removal of the full notebook cells\n",
       "var notebookContainer = gd.closest('#notebook-container');\n",
       "if (notebookContainer) {{\n",
       "    x.observe(notebookContainer, {childList: true});\n",
       "}}\n",
       "\n",
       "// Listen for the clearing of the current output cell\n",
       "var outputEl = gd.closest('.output');\n",
       "if (outputEl) {{\n",
       "    x.observe(outputEl, {childList: true});\n",
       "}}\n",
       "\n",
       "                        })                };                });            </script>        </div>"
      ]
     },
     "metadata": {},
     "output_type": "display_data"
    }
   ],
   "source": [
    "index_vals = hollywood['Genre'].astype('category').cat.codes\n",
    "\n",
    "fig = go.Figure(data=go.Splom(\n",
    "                dimensions=[dict(label='Audience__score_%',\n",
    "                                 values=hollywood['Audience__score_%']),\n",
    "                            dict(label='Profitability',\n",
    "                                 values=hollywood['Profitability']),\n",
    "                            dict(label='Rotten_Tomatoes_%',\n",
    "                                 values=hollywood['Rotten_Tomatoes_%']),\n",
    "                            dict(label='Worldwide_Gross',\n",
    "                                 values=hollywood['Worldwide_Gross'])],\n",
    "                showupperhalf=False, \n",
    "                text=hollywood['Film'],\n",
    "                marker=dict(color=index_vals,\n",
    "                            showscale=False, # colors encode categorical variables\n",
    "                            line_color='white', line_width=0.5)\n",
    "                ))\n",
    "\n",
    "\n",
    "fig.update_layout(\n",
    "    title='Movies',\n",
    "    width=900,\n",
    "    height=900,\n",
    ")\n",
    "\n",
    "fig.show()"
   ]
  },
  {
   "cell_type": "code",
   "execution_count": 18,
   "id": "ecc62a3a",
   "metadata": {
    "execution": {
     "iopub.execute_input": "2023-07-20T14:33:29.193026Z",
     "iopub.status.busy": "2023-07-20T14:33:29.192180Z",
     "iopub.status.idle": "2023-07-20T14:33:29.300499Z",
     "shell.execute_reply": "2023-07-20T14:33:29.299385Z"
    },
    "papermill": {
     "duration": 0.128199,
     "end_time": "2023-07-20T14:33:29.303009",
     "exception": false,
     "start_time": "2023-07-20T14:33:29.174810",
     "status": "completed"
    },
    "tags": []
   },
   "outputs": [
    {
     "name": "stderr",
     "output_type": "stream",
     "text": [
      "/tmp/ipykernel_21/3658190987.py:1: FutureWarning:\n",
      "\n",
      "The default value of numeric_only in DataFrameGroupBy.mean is deprecated. In a future version, numeric_only will default to False. Either specify numeric_only or select only columns which should be valid for the function.\n",
      "\n"
     ]
    },
    {
     "data": {
      "text/html": [
       "<div>                            <div id=\"d94ad5d3-930b-4ec2-819d-0e52a4e9f703\" class=\"plotly-graph-div\" style=\"height:525px; width:100%;\"></div>            <script type=\"text/javascript\">                require([\"plotly\"], function(Plotly) {                    window.PLOTLYENV=window.PLOTLYENV || {};                                    if (document.getElementById(\"d94ad5d3-930b-4ec2-819d-0e52a4e9f703\")) {                    Plotly.newPlot(                        \"d94ad5d3-930b-4ec2-819d-0e52a4e9f703\",                        [{\"alignmentgroup\":\"True\",\"hovertemplate\":\"color=Drama\\u003cbr\\u003ex=%{x}\\u003cbr\\u003ey=%{y}\\u003cbr\\u003etext=%{text}\\u003cextra\\u003e\\u003c\\u002fextra\\u003e\",\"legendgroup\":\"Drama\",\"marker\":{\"color\":\"rgb(133, 92, 117)\",\"pattern\":{\"shape\":\"\"}},\"name\":\"Drama\",\"offsetgroup\":\"Drama\",\"orientation\":\"v\",\"showlegend\":true,\"text\":[8.41],\"textposition\":\"auto\",\"x\":[\"Drama\"],\"xaxis\":\"x\",\"y\":[8.41],\"yaxis\":\"y\",\"type\":\"bar\"},{\"alignmentgroup\":\"True\",\"hovertemplate\":\"color=Romance\\u003cbr\\u003ex=%{x}\\u003cbr\\u003ey=%{y}\\u003cbr\\u003etext=%{text}\\u003cextra\\u003e\\u003c\\u002fextra\\u003e\",\"legendgroup\":\"Romance\",\"marker\":{\"color\":\"rgb(217, 175, 107)\",\"pattern\":{\"shape\":\"\"}},\"name\":\"Romance\",\"offsetgroup\":\"Romance\",\"orientation\":\"v\",\"showlegend\":true,\"text\":[4.37],\"textposition\":\"auto\",\"x\":[\"Romance\"],\"xaxis\":\"x\",\"y\":[4.37],\"yaxis\":\"y\",\"type\":\"bar\"},{\"alignmentgroup\":\"True\",\"hovertemplate\":\"color=Comedy\\u003cbr\\u003ex=%{x}\\u003cbr\\u003ey=%{y}\\u003cbr\\u003etext=%{text}\\u003cextra\\u003e\\u003c\\u002fextra\\u003e\",\"legendgroup\":\"Comedy\",\"marker\":{\"color\":\"rgb(175, 100, 88)\",\"pattern\":{\"shape\":\"\"}},\"name\":\"Comedy\",\"offsetgroup\":\"Comedy\",\"orientation\":\"v\",\"showlegend\":true,\"text\":[3.94],\"textposition\":\"auto\",\"x\":[\"Comedy\"],\"xaxis\":\"x\",\"y\":[3.94],\"yaxis\":\"y\",\"type\":\"bar\"},{\"alignmentgroup\":\"True\",\"hovertemplate\":\"color=Animation\\u003cbr\\u003ex=%{x}\\u003cbr\\u003ey=%{y}\\u003cbr\\u003etext=%{text}\\u003cextra\\u003e\\u003c\\u002fextra\\u003e\",\"legendgroup\":\"Animation\",\"marker\":{\"color\":\"rgb(115, 111, 76)\",\"pattern\":{\"shape\":\"\"}},\"name\":\"Animation\",\"offsetgroup\":\"Animation\",\"orientation\":\"v\",\"showlegend\":true,\"text\":[3.22],\"textposition\":\"auto\",\"x\":[\"Animation\"],\"xaxis\":\"x\",\"y\":[3.22],\"yaxis\":\"y\",\"type\":\"bar\"},{\"alignmentgroup\":\"True\",\"hovertemplate\":\"color=Fantasy\\u003cbr\\u003ex=%{x}\\u003cbr\\u003ey=%{y}\\u003cbr\\u003etext=%{text}\\u003cextra\\u003e\\u003c\\u002fextra\\u003e\",\"legendgroup\":\"Fantasy\",\"marker\":{\"color\":\"rgb(82, 106, 131)\",\"pattern\":{\"shape\":\"\"}},\"name\":\"Fantasy\",\"offsetgroup\":\"Fantasy\",\"orientation\":\"v\",\"showlegend\":true,\"text\":[1.78],\"textposition\":\"auto\",\"x\":[\"Fantasy\"],\"xaxis\":\"x\",\"y\":[1.78],\"yaxis\":\"y\",\"type\":\"bar\"},{\"alignmentgroup\":\"True\",\"hovertemplate\":\"color=Action\\u003cbr\\u003ex=%{x}\\u003cbr\\u003ey=%{y}\\u003cbr\\u003etext=%{text}\\u003cextra\\u003e\\u003c\\u002fextra\\u003e\",\"legendgroup\":\"Action\",\"marker\":{\"color\":\"rgb(98, 83, 119)\",\"pattern\":{\"shape\":\"\"}},\"name\":\"Action\",\"offsetgroup\":\"Action\",\"orientation\":\"v\",\"showlegend\":true,\"text\":[1.25],\"textposition\":\"auto\",\"x\":[\"Action\"],\"xaxis\":\"x\",\"y\":[1.25],\"yaxis\":\"y\",\"type\":\"bar\"}],                        {\"template\":{\"data\":{\"barpolar\":[{\"marker\":{\"line\":{\"color\":\"rgb(237,237,237)\",\"width\":0.5},\"pattern\":{\"fillmode\":\"overlay\",\"size\":10,\"solidity\":0.2}},\"type\":\"barpolar\"}],\"bar\":[{\"error_x\":{\"color\":\"rgb(51,51,51)\"},\"error_y\":{\"color\":\"rgb(51,51,51)\"},\"marker\":{\"line\":{\"color\":\"rgb(237,237,237)\",\"width\":0.5},\"pattern\":{\"fillmode\":\"overlay\",\"size\":10,\"solidity\":0.2}},\"type\":\"bar\"}],\"carpet\":[{\"aaxis\":{\"endlinecolor\":\"rgb(51,51,51)\",\"gridcolor\":\"white\",\"linecolor\":\"white\",\"minorgridcolor\":\"white\",\"startlinecolor\":\"rgb(51,51,51)\"},\"baxis\":{\"endlinecolor\":\"rgb(51,51,51)\",\"gridcolor\":\"white\",\"linecolor\":\"white\",\"minorgridcolor\":\"white\",\"startlinecolor\":\"rgb(51,51,51)\"},\"type\":\"carpet\"}],\"choropleth\":[{\"colorbar\":{\"outlinewidth\":0,\"tickcolor\":\"rgb(237,237,237)\",\"ticklen\":6,\"ticks\":\"inside\"},\"type\":\"choropleth\"}],\"contourcarpet\":[{\"colorbar\":{\"outlinewidth\":0,\"tickcolor\":\"rgb(237,237,237)\",\"ticklen\":6,\"ticks\":\"inside\"},\"type\":\"contourcarpet\"}],\"contour\":[{\"colorbar\":{\"outlinewidth\":0,\"tickcolor\":\"rgb(237,237,237)\",\"ticklen\":6,\"ticks\":\"inside\"},\"colorscale\":[[0,\"rgb(20,44,66)\"],[1,\"rgb(90,179,244)\"]],\"type\":\"contour\"}],\"heatmapgl\":[{\"colorbar\":{\"outlinewidth\":0,\"tickcolor\":\"rgb(237,237,237)\",\"ticklen\":6,\"ticks\":\"inside\"},\"colorscale\":[[0,\"rgb(20,44,66)\"],[1,\"rgb(90,179,244)\"]],\"type\":\"heatmapgl\"}],\"heatmap\":[{\"colorbar\":{\"outlinewidth\":0,\"tickcolor\":\"rgb(237,237,237)\",\"ticklen\":6,\"ticks\":\"inside\"},\"colorscale\":[[0,\"rgb(20,44,66)\"],[1,\"rgb(90,179,244)\"]],\"type\":\"heatmap\"}],\"histogram2dcontour\":[{\"colorbar\":{\"outlinewidth\":0,\"tickcolor\":\"rgb(237,237,237)\",\"ticklen\":6,\"ticks\":\"inside\"},\"colorscale\":[[0,\"rgb(20,44,66)\"],[1,\"rgb(90,179,244)\"]],\"type\":\"histogram2dcontour\"}],\"histogram2d\":[{\"colorbar\":{\"outlinewidth\":0,\"tickcolor\":\"rgb(237,237,237)\",\"ticklen\":6,\"ticks\":\"inside\"},\"colorscale\":[[0,\"rgb(20,44,66)\"],[1,\"rgb(90,179,244)\"]],\"type\":\"histogram2d\"}],\"histogram\":[{\"marker\":{\"pattern\":{\"fillmode\":\"overlay\",\"size\":10,\"solidity\":0.2}},\"type\":\"histogram\"}],\"mesh3d\":[{\"colorbar\":{\"outlinewidth\":0,\"tickcolor\":\"rgb(237,237,237)\",\"ticklen\":6,\"ticks\":\"inside\"},\"type\":\"mesh3d\"}],\"parcoords\":[{\"line\":{\"colorbar\":{\"outlinewidth\":0,\"tickcolor\":\"rgb(237,237,237)\",\"ticklen\":6,\"ticks\":\"inside\"}},\"type\":\"parcoords\"}],\"pie\":[{\"automargin\":true,\"type\":\"pie\"}],\"scatter3d\":[{\"line\":{\"colorbar\":{\"outlinewidth\":0,\"tickcolor\":\"rgb(237,237,237)\",\"ticklen\":6,\"ticks\":\"inside\"}},\"marker\":{\"colorbar\":{\"outlinewidth\":0,\"tickcolor\":\"rgb(237,237,237)\",\"ticklen\":6,\"ticks\":\"inside\"}},\"type\":\"scatter3d\"}],\"scattercarpet\":[{\"marker\":{\"colorbar\":{\"outlinewidth\":0,\"tickcolor\":\"rgb(237,237,237)\",\"ticklen\":6,\"ticks\":\"inside\"}},\"type\":\"scattercarpet\"}],\"scattergeo\":[{\"marker\":{\"colorbar\":{\"outlinewidth\":0,\"tickcolor\":\"rgb(237,237,237)\",\"ticklen\":6,\"ticks\":\"inside\"}},\"type\":\"scattergeo\"}],\"scattergl\":[{\"marker\":{\"colorbar\":{\"outlinewidth\":0,\"tickcolor\":\"rgb(237,237,237)\",\"ticklen\":6,\"ticks\":\"inside\"}},\"type\":\"scattergl\"}],\"scattermapbox\":[{\"marker\":{\"colorbar\":{\"outlinewidth\":0,\"tickcolor\":\"rgb(237,237,237)\",\"ticklen\":6,\"ticks\":\"inside\"}},\"type\":\"scattermapbox\"}],\"scatterpolargl\":[{\"marker\":{\"colorbar\":{\"outlinewidth\":0,\"tickcolor\":\"rgb(237,237,237)\",\"ticklen\":6,\"ticks\":\"inside\"}},\"type\":\"scatterpolargl\"}],\"scatterpolar\":[{\"marker\":{\"colorbar\":{\"outlinewidth\":0,\"tickcolor\":\"rgb(237,237,237)\",\"ticklen\":6,\"ticks\":\"inside\"}},\"type\":\"scatterpolar\"}],\"scatter\":[{\"fillpattern\":{\"fillmode\":\"overlay\",\"size\":10,\"solidity\":0.2},\"type\":\"scatter\"}],\"scatterternary\":[{\"marker\":{\"colorbar\":{\"outlinewidth\":0,\"tickcolor\":\"rgb(237,237,237)\",\"ticklen\":6,\"ticks\":\"inside\"}},\"type\":\"scatterternary\"}],\"surface\":[{\"colorbar\":{\"outlinewidth\":0,\"tickcolor\":\"rgb(237,237,237)\",\"ticklen\":6,\"ticks\":\"inside\"},\"colorscale\":[[0,\"rgb(20,44,66)\"],[1,\"rgb(90,179,244)\"]],\"type\":\"surface\"}],\"table\":[{\"cells\":{\"fill\":{\"color\":\"rgb(237,237,237)\"},\"line\":{\"color\":\"white\"}},\"header\":{\"fill\":{\"color\":\"rgb(217,217,217)\"},\"line\":{\"color\":\"white\"}},\"type\":\"table\"}]},\"layout\":{\"annotationdefaults\":{\"arrowhead\":0,\"arrowwidth\":1},\"autotypenumbers\":\"strict\",\"coloraxis\":{\"colorbar\":{\"outlinewidth\":0,\"tickcolor\":\"rgb(237,237,237)\",\"ticklen\":6,\"ticks\":\"inside\"}},\"colorscale\":{\"sequential\":[[0,\"rgb(20,44,66)\"],[1,\"rgb(90,179,244)\"]],\"sequentialminus\":[[0,\"rgb(20,44,66)\"],[1,\"rgb(90,179,244)\"]]},\"colorway\":[\"#F8766D\",\"#A3A500\",\"#00BF7D\",\"#00B0F6\",\"#E76BF3\"],\"font\":{\"color\":\"rgb(51,51,51)\"},\"geo\":{\"bgcolor\":\"white\",\"lakecolor\":\"white\",\"landcolor\":\"rgb(237,237,237)\",\"showlakes\":true,\"showland\":true,\"subunitcolor\":\"white\"},\"hoverlabel\":{\"align\":\"left\"},\"hovermode\":\"closest\",\"paper_bgcolor\":\"white\",\"plot_bgcolor\":\"rgb(237,237,237)\",\"polar\":{\"angularaxis\":{\"gridcolor\":\"white\",\"linecolor\":\"white\",\"showgrid\":true,\"tickcolor\":\"rgb(51,51,51)\",\"ticks\":\"outside\"},\"bgcolor\":\"rgb(237,237,237)\",\"radialaxis\":{\"gridcolor\":\"white\",\"linecolor\":\"white\",\"showgrid\":true,\"tickcolor\":\"rgb(51,51,51)\",\"ticks\":\"outside\"}},\"scene\":{\"xaxis\":{\"backgroundcolor\":\"rgb(237,237,237)\",\"gridcolor\":\"white\",\"gridwidth\":2,\"linecolor\":\"white\",\"showbackground\":true,\"showgrid\":true,\"tickcolor\":\"rgb(51,51,51)\",\"ticks\":\"outside\",\"zerolinecolor\":\"white\"},\"yaxis\":{\"backgroundcolor\":\"rgb(237,237,237)\",\"gridcolor\":\"white\",\"gridwidth\":2,\"linecolor\":\"white\",\"showbackground\":true,\"showgrid\":true,\"tickcolor\":\"rgb(51,51,51)\",\"ticks\":\"outside\",\"zerolinecolor\":\"white\"},\"zaxis\":{\"backgroundcolor\":\"rgb(237,237,237)\",\"gridcolor\":\"white\",\"gridwidth\":2,\"linecolor\":\"white\",\"showbackground\":true,\"showgrid\":true,\"tickcolor\":\"rgb(51,51,51)\",\"ticks\":\"outside\",\"zerolinecolor\":\"white\"}},\"shapedefaults\":{\"fillcolor\":\"black\",\"line\":{\"width\":0},\"opacity\":0.3},\"ternary\":{\"aaxis\":{\"gridcolor\":\"white\",\"linecolor\":\"white\",\"showgrid\":true,\"tickcolor\":\"rgb(51,51,51)\",\"ticks\":\"outside\"},\"baxis\":{\"gridcolor\":\"white\",\"linecolor\":\"white\",\"showgrid\":true,\"tickcolor\":\"rgb(51,51,51)\",\"ticks\":\"outside\"},\"bgcolor\":\"rgb(237,237,237)\",\"caxis\":{\"gridcolor\":\"white\",\"linecolor\":\"white\",\"showgrid\":true,\"tickcolor\":\"rgb(51,51,51)\",\"ticks\":\"outside\"}},\"xaxis\":{\"automargin\":true,\"gridcolor\":\"white\",\"linecolor\":\"white\",\"showgrid\":true,\"tickcolor\":\"rgb(51,51,51)\",\"ticks\":\"outside\",\"title\":{\"standoff\":15},\"zerolinecolor\":\"white\"},\"yaxis\":{\"automargin\":true,\"gridcolor\":\"white\",\"linecolor\":\"white\",\"showgrid\":true,\"tickcolor\":\"rgb(51,51,51)\",\"ticks\":\"outside\",\"title\":{\"standoff\":15},\"zerolinecolor\":\"white\"}}},\"xaxis\":{\"anchor\":\"y\",\"domain\":[0.0,1.0],\"title\":{\"text\":\"Genre\"}},\"yaxis\":{\"anchor\":\"x\",\"domain\":[0.0,1.0],\"title\":{\"text\":\"Mean Profitability\"}},\"legend\":{\"title\":{\"text\":\"color\"},\"tracegroupgap\":0},\"title\":{\"text\":\"Genre by Mean Profitability\"},\"barmode\":\"relative\",\"font\":{\"size\":17,\"family\":\"Times New Roman\"}},                        {\"responsive\": true}                    ).then(function(){\n",
       "                            \n",
       "var gd = document.getElementById('d94ad5d3-930b-4ec2-819d-0e52a4e9f703');\n",
       "var x = new MutationObserver(function (mutations, observer) {{\n",
       "        var display = window.getComputedStyle(gd).display;\n",
       "        if (!display || display === 'none') {{\n",
       "            console.log([gd, 'removed!']);\n",
       "            Plotly.purge(gd);\n",
       "            observer.disconnect();\n",
       "        }}\n",
       "}});\n",
       "\n",
       "// Listen for the removal of the full notebook cells\n",
       "var notebookContainer = gd.closest('#notebook-container');\n",
       "if (notebookContainer) {{\n",
       "    x.observe(notebookContainer, {childList: true});\n",
       "}}\n",
       "\n",
       "// Listen for the clearing of the current output cell\n",
       "var outputEl = gd.closest('.output');\n",
       "if (outputEl) {{\n",
       "    x.observe(outputEl, {childList: true});\n",
       "}}\n",
       "\n",
       "                        })                };                });            </script>        </div>"
      ]
     },
     "metadata": {},
     "output_type": "display_data"
    }
   ],
   "source": [
    "genre = hollywood.groupby('Genre').mean().Profitability.sort_values(ascending = False)\n",
    "genre = np.round(genre,2)\n",
    "plotly_bar(genre, \"Genre by Mean Profitability\", 'Genre', 'Mean Profitability')\n"
   ]
  },
  {
   "cell_type": "markdown",
   "id": "94b74a59",
   "metadata": {
    "papermill": {
     "duration": 0.016103,
     "end_time": "2023-07-20T14:33:29.335608",
     "exception": false,
     "start_time": "2023-07-20T14:33:29.319505",
     "status": "completed"
    },
    "tags": []
   },
   "source": []
  },
  {
   "cell_type": "code",
   "execution_count": 19,
   "id": "f4c5a3f0",
   "metadata": {
    "execution": {
     "iopub.execute_input": "2023-07-20T14:33:29.370613Z",
     "iopub.status.busy": "2023-07-20T14:33:29.369835Z",
     "iopub.status.idle": "2023-07-20T14:33:29.515854Z",
     "shell.execute_reply": "2023-07-20T14:33:29.514693Z"
    },
    "papermill": {
     "duration": 0.166079,
     "end_time": "2023-07-20T14:33:29.518166",
     "exception": false,
     "start_time": "2023-07-20T14:33:29.352087",
     "status": "completed"
    },
    "tags": []
   },
   "outputs": [
    {
     "name": "stderr",
     "output_type": "stream",
     "text": [
      "/tmp/ipykernel_21/2619842407.py:1: FutureWarning:\n",
      "\n",
      "The default value of numeric_only in DataFrameGroupBy.mean is deprecated. In a future version, numeric_only will default to False. Either specify numeric_only or select only columns which should be valid for the function.\n",
      "\n"
     ]
    },
    {
     "data": {
      "text/html": [
       "<div>                            <div id=\"9e552d2d-017e-4a35-96cc-46d98cda3c06\" class=\"plotly-graph-div\" style=\"height:525px; width:100%;\"></div>            <script type=\"text/javascript\">                require([\"plotly\"], function(Plotly) {                    window.PLOTLYENV=window.PLOTLYENV || {};                                    if (document.getElementById(\"9e552d2d-017e-4a35-96cc-46d98cda3c06\")) {                    Plotly.newPlot(                        \"9e552d2d-017e-4a35-96cc-46d98cda3c06\",                        [{\"alignmentgroup\":\"True\",\"hovertemplate\":\"color=Disney\\u003cbr\\u003ex=%{x}\\u003cbr\\u003ey=%{y}\\u003cbr\\u003etext=%{text}\\u003cextra\\u003e\\u003c\\u002fextra\\u003e\",\"legendgroup\":\"Disney\",\"marker\":{\"color\":\"rgb(133, 92, 117)\",\"pattern\":{\"shape\":\"\"}},\"name\":\"Disney\",\"offsetgroup\":\"Disney\",\"orientation\":\"v\",\"showlegend\":true,\"text\":[288.7],\"textposition\":\"auto\",\"x\":[\"Disney\"],\"xaxis\":\"x\",\"y\":[288.7],\"yaxis\":\"y\",\"type\":\"bar\"},{\"alignmentgroup\":\"True\",\"hovertemplate\":\"color=Summit\\u003cbr\\u003ex=%{x}\\u003cbr\\u003ey=%{y}\\u003cbr\\u003etext=%{text}\\u003cextra\\u003e\\u003c\\u002fextra\\u003e\",\"legendgroup\":\"Summit\",\"marker\":{\"color\":\"rgb(217, 175, 107)\",\"pattern\":{\"shape\":\"\"}},\"name\":\"Summit\",\"offsetgroup\":\"Summit\",\"orientation\":\"v\",\"showlegend\":true,\"text\":[248.5],\"textposition\":\"auto\",\"x\":[\"Summit\"],\"xaxis\":\"x\",\"y\":[248.5],\"yaxis\":\"y\",\"type\":\"bar\"},{\"alignmentgroup\":\"True\",\"hovertemplate\":\"color=Warner Bros.\\u003cbr\\u003ex=%{x}\\u003cbr\\u003ey=%{y}\\u003cbr\\u003etext=%{text}\\u003cextra\\u003e\\u003c\\u002fextra\\u003e\",\"legendgroup\":\"Warner Bros.\",\"marker\":{\"color\":\"rgb(175, 100, 88)\",\"pattern\":{\"shape\":\"\"}},\"name\":\"Warner Bros.\",\"offsetgroup\":\"Warner Bros.\",\"orientation\":\"v\",\"showlegend\":true,\"text\":[173.4],\"textposition\":\"auto\",\"x\":[\"Warner Bros.\"],\"xaxis\":\"x\",\"y\":[173.4],\"yaxis\":\"y\",\"type\":\"bar\"},{\"alignmentgroup\":\"True\",\"hovertemplate\":\"color=Universal\\u003cbr\\u003ex=%{x}\\u003cbr\\u003ey=%{y}\\u003cbr\\u003etext=%{text}\\u003cextra\\u003e\\u003c\\u002fextra\\u003e\",\"legendgroup\":\"Universal\",\"marker\":{\"color\":\"rgb(115, 111, 76)\",\"pattern\":{\"shape\":\"\"}},\"name\":\"Universal\",\"offsetgroup\":\"Universal\",\"orientation\":\"v\",\"showlegend\":true,\"text\":[168.9],\"textposition\":\"auto\",\"x\":[\"Universal\"],\"xaxis\":\"x\",\"y\":[168.9],\"yaxis\":\"y\",\"type\":\"bar\"},{\"alignmentgroup\":\"True\",\"hovertemplate\":\"color=Fox\\u003cbr\\u003ex=%{x}\\u003cbr\\u003ey=%{y}\\u003cbr\\u003etext=%{text}\\u003cextra\\u003e\\u003c\\u002fextra\\u003e\",\"legendgroup\":\"Fox\",\"marker\":{\"color\":\"rgb(82, 106, 131)\",\"pattern\":{\"shape\":\"\"}},\"name\":\"Fox\",\"offsetgroup\":\"Fox\",\"orientation\":\"v\",\"showlegend\":true,\"text\":[120.4],\"textposition\":\"auto\",\"x\":[\"Fox\"],\"xaxis\":\"x\",\"y\":[120.4],\"yaxis\":\"y\",\"type\":\"bar\"},{\"alignmentgroup\":\"True\",\"hovertemplate\":\"color=Sony\\u003cbr\\u003ex=%{x}\\u003cbr\\u003ey=%{y}\\u003cbr\\u003etext=%{text}\\u003cextra\\u003e\\u003c\\u002fextra\\u003e\",\"legendgroup\":\"Sony\",\"marker\":{\"color\":\"rgb(98, 83, 119)\",\"pattern\":{\"shape\":\"\"}},\"name\":\"Sony\",\"offsetgroup\":\"Sony\",\"orientation\":\"v\",\"showlegend\":true,\"text\":[100.8],\"textposition\":\"auto\",\"x\":[\"Sony\"],\"xaxis\":\"x\",\"y\":[100.8],\"yaxis\":\"y\",\"type\":\"bar\"},{\"alignmentgroup\":\"True\",\"hovertemplate\":\"color=Independent\\u003cbr\\u003ex=%{x}\\u003cbr\\u003ey=%{y}\\u003cbr\\u003etext=%{text}\\u003cextra\\u003e\\u003c\\u002fextra\\u003e\",\"legendgroup\":\"Independent\",\"marker\":{\"color\":\"rgb(104, 133, 92)\",\"pattern\":{\"shape\":\"\"}},\"name\":\"Independent\",\"offsetgroup\":\"Independent\",\"orientation\":\"v\",\"showlegend\":true,\"text\":[81.4],\"textposition\":\"auto\",\"x\":[\"Independent\"],\"xaxis\":\"x\",\"y\":[81.4],\"yaxis\":\"y\",\"type\":\"bar\"},{\"alignmentgroup\":\"True\",\"hovertemplate\":\"color=Paramount\\u003cbr\\u003ex=%{x}\\u003cbr\\u003ey=%{y}\\u003cbr\\u003etext=%{text}\\u003cextra\\u003e\\u003c\\u002fextra\\u003e\",\"legendgroup\":\"Paramount\",\"marker\":{\"color\":\"rgb(156, 156, 94)\",\"pattern\":{\"shape\":\"\"}},\"name\":\"Paramount\",\"offsetgroup\":\"Paramount\",\"orientation\":\"v\",\"showlegend\":true,\"text\":[80.3],\"textposition\":\"auto\",\"x\":[\"Paramount\"],\"xaxis\":\"x\",\"y\":[80.3],\"yaxis\":\"y\",\"type\":\"bar\"},{\"alignmentgroup\":\"True\",\"hovertemplate\":\"color=20th Century Fox\\u003cbr\\u003ex=%{x}\\u003cbr\\u003ey=%{y}\\u003cbr\\u003etext=%{text}\\u003cextra\\u003e\\u003c\\u002fextra\\u003e\",\"legendgroup\":\"20th Century Fox\",\"marker\":{\"color\":\"rgb(160, 97, 119)\",\"pattern\":{\"shape\":\"\"}},\"name\":\"20th Century Fox\",\"offsetgroup\":\"20th Century Fox\",\"orientation\":\"v\",\"showlegend\":true,\"text\":[78.4],\"textposition\":\"auto\",\"x\":[\"20th Century Fox\"],\"xaxis\":\"x\",\"y\":[78.4],\"yaxis\":\"y\",\"type\":\"bar\"},{\"alignmentgroup\":\"True\",\"hovertemplate\":\"color=CBS\\u003cbr\\u003ex=%{x}\\u003cbr\\u003ey=%{y}\\u003cbr\\u003etext=%{text}\\u003cextra\\u003e\\u003c\\u002fextra\\u003e\",\"legendgroup\":\"CBS\",\"marker\":{\"color\":\"rgb(140, 120, 93)\",\"pattern\":{\"shape\":\"\"}},\"name\":\"CBS\",\"offsetgroup\":\"CBS\",\"orientation\":\"v\",\"showlegend\":true,\"text\":[77.1],\"textposition\":\"auto\",\"x\":[\"CBS\"],\"xaxis\":\"x\",\"y\":[77.1],\"yaxis\":\"y\",\"type\":\"bar\"},{\"alignmentgroup\":\"True\",\"hovertemplate\":\"color=Lionsgate\\u003cbr\\u003ex=%{x}\\u003cbr\\u003ey=%{y}\\u003cbr\\u003etext=%{text}\\u003cextra\\u003e\\u003c\\u002fextra\\u003e\",\"legendgroup\":\"Lionsgate\",\"marker\":{\"color\":\"rgb(124, 124, 124)\",\"pattern\":{\"shape\":\"\"}},\"name\":\"Lionsgate\",\"offsetgroup\":\"Lionsgate\",\"orientation\":\"v\",\"showlegend\":true,\"text\":[76.3],\"textposition\":\"auto\",\"x\":[\"Lionsgate\"],\"xaxis\":\"x\",\"y\":[76.3],\"yaxis\":\"y\",\"type\":\"bar\"},{\"alignmentgroup\":\"True\",\"hovertemplate\":\"color=The Weinstein Company\\u003cbr\\u003ex=%{x}\\u003cbr\\u003ey=%{y}\\u003cbr\\u003etext=%{text}\\u003cextra\\u003e\\u003c\\u002fextra\\u003e\",\"legendgroup\":\"The Weinstein Company\",\"marker\":{\"color\":\"rgb(133, 92, 117)\",\"pattern\":{\"shape\":\"\"}},\"name\":\"The Weinstein Company\",\"offsetgroup\":\"The Weinstein Company\",\"orientation\":\"v\",\"showlegend\":true,\"text\":[23.3],\"textposition\":\"auto\",\"x\":[\"The Weinstein Company\"],\"xaxis\":\"x\",\"y\":[23.3],\"yaxis\":\"y\",\"type\":\"bar\"},{\"alignmentgroup\":\"True\",\"hovertemplate\":\"color=New Line\\u003cbr\\u003ex=%{x}\\u003cbr\\u003ey=%{y}\\u003cbr\\u003etext=%{text}\\u003cextra\\u003e\\u003c\\u002fextra\\u003e\",\"legendgroup\":\"New Line\",\"marker\":{\"color\":\"rgb(217, 175, 107)\",\"pattern\":{\"shape\":\"\"}},\"name\":\"New Line\",\"offsetgroup\":\"New Line\",\"orientation\":\"v\",\"showlegend\":true,\"text\":[20.7],\"textposition\":\"auto\",\"x\":[\"New Line\"],\"xaxis\":\"x\",\"y\":[20.7],\"yaxis\":\"y\",\"type\":\"bar\"}],                        {\"template\":{\"data\":{\"barpolar\":[{\"marker\":{\"line\":{\"color\":\"rgb(237,237,237)\",\"width\":0.5},\"pattern\":{\"fillmode\":\"overlay\",\"size\":10,\"solidity\":0.2}},\"type\":\"barpolar\"}],\"bar\":[{\"error_x\":{\"color\":\"rgb(51,51,51)\"},\"error_y\":{\"color\":\"rgb(51,51,51)\"},\"marker\":{\"line\":{\"color\":\"rgb(237,237,237)\",\"width\":0.5},\"pattern\":{\"fillmode\":\"overlay\",\"size\":10,\"solidity\":0.2}},\"type\":\"bar\"}],\"carpet\":[{\"aaxis\":{\"endlinecolor\":\"rgb(51,51,51)\",\"gridcolor\":\"white\",\"linecolor\":\"white\",\"minorgridcolor\":\"white\",\"startlinecolor\":\"rgb(51,51,51)\"},\"baxis\":{\"endlinecolor\":\"rgb(51,51,51)\",\"gridcolor\":\"white\",\"linecolor\":\"white\",\"minorgridcolor\":\"white\",\"startlinecolor\":\"rgb(51,51,51)\"},\"type\":\"carpet\"}],\"choropleth\":[{\"colorbar\":{\"outlinewidth\":0,\"tickcolor\":\"rgb(237,237,237)\",\"ticklen\":6,\"ticks\":\"inside\"},\"type\":\"choropleth\"}],\"contourcarpet\":[{\"colorbar\":{\"outlinewidth\":0,\"tickcolor\":\"rgb(237,237,237)\",\"ticklen\":6,\"ticks\":\"inside\"},\"type\":\"contourcarpet\"}],\"contour\":[{\"colorbar\":{\"outlinewidth\":0,\"tickcolor\":\"rgb(237,237,237)\",\"ticklen\":6,\"ticks\":\"inside\"},\"colorscale\":[[0,\"rgb(20,44,66)\"],[1,\"rgb(90,179,244)\"]],\"type\":\"contour\"}],\"heatmapgl\":[{\"colorbar\":{\"outlinewidth\":0,\"tickcolor\":\"rgb(237,237,237)\",\"ticklen\":6,\"ticks\":\"inside\"},\"colorscale\":[[0,\"rgb(20,44,66)\"],[1,\"rgb(90,179,244)\"]],\"type\":\"heatmapgl\"}],\"heatmap\":[{\"colorbar\":{\"outlinewidth\":0,\"tickcolor\":\"rgb(237,237,237)\",\"ticklen\":6,\"ticks\":\"inside\"},\"colorscale\":[[0,\"rgb(20,44,66)\"],[1,\"rgb(90,179,244)\"]],\"type\":\"heatmap\"}],\"histogram2dcontour\":[{\"colorbar\":{\"outlinewidth\":0,\"tickcolor\":\"rgb(237,237,237)\",\"ticklen\":6,\"ticks\":\"inside\"},\"colorscale\":[[0,\"rgb(20,44,66)\"],[1,\"rgb(90,179,244)\"]],\"type\":\"histogram2dcontour\"}],\"histogram2d\":[{\"colorbar\":{\"outlinewidth\":0,\"tickcolor\":\"rgb(237,237,237)\",\"ticklen\":6,\"ticks\":\"inside\"},\"colorscale\":[[0,\"rgb(20,44,66)\"],[1,\"rgb(90,179,244)\"]],\"type\":\"histogram2d\"}],\"histogram\":[{\"marker\":{\"pattern\":{\"fillmode\":\"overlay\",\"size\":10,\"solidity\":0.2}},\"type\":\"histogram\"}],\"mesh3d\":[{\"colorbar\":{\"outlinewidth\":0,\"tickcolor\":\"rgb(237,237,237)\",\"ticklen\":6,\"ticks\":\"inside\"},\"type\":\"mesh3d\"}],\"parcoords\":[{\"line\":{\"colorbar\":{\"outlinewidth\":0,\"tickcolor\":\"rgb(237,237,237)\",\"ticklen\":6,\"ticks\":\"inside\"}},\"type\":\"parcoords\"}],\"pie\":[{\"automargin\":true,\"type\":\"pie\"}],\"scatter3d\":[{\"line\":{\"colorbar\":{\"outlinewidth\":0,\"tickcolor\":\"rgb(237,237,237)\",\"ticklen\":6,\"ticks\":\"inside\"}},\"marker\":{\"colorbar\":{\"outlinewidth\":0,\"tickcolor\":\"rgb(237,237,237)\",\"ticklen\":6,\"ticks\":\"inside\"}},\"type\":\"scatter3d\"}],\"scattercarpet\":[{\"marker\":{\"colorbar\":{\"outlinewidth\":0,\"tickcolor\":\"rgb(237,237,237)\",\"ticklen\":6,\"ticks\":\"inside\"}},\"type\":\"scattercarpet\"}],\"scattergeo\":[{\"marker\":{\"colorbar\":{\"outlinewidth\":0,\"tickcolor\":\"rgb(237,237,237)\",\"ticklen\":6,\"ticks\":\"inside\"}},\"type\":\"scattergeo\"}],\"scattergl\":[{\"marker\":{\"colorbar\":{\"outlinewidth\":0,\"tickcolor\":\"rgb(237,237,237)\",\"ticklen\":6,\"ticks\":\"inside\"}},\"type\":\"scattergl\"}],\"scattermapbox\":[{\"marker\":{\"colorbar\":{\"outlinewidth\":0,\"tickcolor\":\"rgb(237,237,237)\",\"ticklen\":6,\"ticks\":\"inside\"}},\"type\":\"scattermapbox\"}],\"scatterpolargl\":[{\"marker\":{\"colorbar\":{\"outlinewidth\":0,\"tickcolor\":\"rgb(237,237,237)\",\"ticklen\":6,\"ticks\":\"inside\"}},\"type\":\"scatterpolargl\"}],\"scatterpolar\":[{\"marker\":{\"colorbar\":{\"outlinewidth\":0,\"tickcolor\":\"rgb(237,237,237)\",\"ticklen\":6,\"ticks\":\"inside\"}},\"type\":\"scatterpolar\"}],\"scatter\":[{\"fillpattern\":{\"fillmode\":\"overlay\",\"size\":10,\"solidity\":0.2},\"type\":\"scatter\"}],\"scatterternary\":[{\"marker\":{\"colorbar\":{\"outlinewidth\":0,\"tickcolor\":\"rgb(237,237,237)\",\"ticklen\":6,\"ticks\":\"inside\"}},\"type\":\"scatterternary\"}],\"surface\":[{\"colorbar\":{\"outlinewidth\":0,\"tickcolor\":\"rgb(237,237,237)\",\"ticklen\":6,\"ticks\":\"inside\"},\"colorscale\":[[0,\"rgb(20,44,66)\"],[1,\"rgb(90,179,244)\"]],\"type\":\"surface\"}],\"table\":[{\"cells\":{\"fill\":{\"color\":\"rgb(237,237,237)\"},\"line\":{\"color\":\"white\"}},\"header\":{\"fill\":{\"color\":\"rgb(217,217,217)\"},\"line\":{\"color\":\"white\"}},\"type\":\"table\"}]},\"layout\":{\"annotationdefaults\":{\"arrowhead\":0,\"arrowwidth\":1},\"autotypenumbers\":\"strict\",\"coloraxis\":{\"colorbar\":{\"outlinewidth\":0,\"tickcolor\":\"rgb(237,237,237)\",\"ticklen\":6,\"ticks\":\"inside\"}},\"colorscale\":{\"sequential\":[[0,\"rgb(20,44,66)\"],[1,\"rgb(90,179,244)\"]],\"sequentialminus\":[[0,\"rgb(20,44,66)\"],[1,\"rgb(90,179,244)\"]]},\"colorway\":[\"#F8766D\",\"#A3A500\",\"#00BF7D\",\"#00B0F6\",\"#E76BF3\"],\"font\":{\"color\":\"rgb(51,51,51)\"},\"geo\":{\"bgcolor\":\"white\",\"lakecolor\":\"white\",\"landcolor\":\"rgb(237,237,237)\",\"showlakes\":true,\"showland\":true,\"subunitcolor\":\"white\"},\"hoverlabel\":{\"align\":\"left\"},\"hovermode\":\"closest\",\"paper_bgcolor\":\"white\",\"plot_bgcolor\":\"rgb(237,237,237)\",\"polar\":{\"angularaxis\":{\"gridcolor\":\"white\",\"linecolor\":\"white\",\"showgrid\":true,\"tickcolor\":\"rgb(51,51,51)\",\"ticks\":\"outside\"},\"bgcolor\":\"rgb(237,237,237)\",\"radialaxis\":{\"gridcolor\":\"white\",\"linecolor\":\"white\",\"showgrid\":true,\"tickcolor\":\"rgb(51,51,51)\",\"ticks\":\"outside\"}},\"scene\":{\"xaxis\":{\"backgroundcolor\":\"rgb(237,237,237)\",\"gridcolor\":\"white\",\"gridwidth\":2,\"linecolor\":\"white\",\"showbackground\":true,\"showgrid\":true,\"tickcolor\":\"rgb(51,51,51)\",\"ticks\":\"outside\",\"zerolinecolor\":\"white\"},\"yaxis\":{\"backgroundcolor\":\"rgb(237,237,237)\",\"gridcolor\":\"white\",\"gridwidth\":2,\"linecolor\":\"white\",\"showbackground\":true,\"showgrid\":true,\"tickcolor\":\"rgb(51,51,51)\",\"ticks\":\"outside\",\"zerolinecolor\":\"white\"},\"zaxis\":{\"backgroundcolor\":\"rgb(237,237,237)\",\"gridcolor\":\"white\",\"gridwidth\":2,\"linecolor\":\"white\",\"showbackground\":true,\"showgrid\":true,\"tickcolor\":\"rgb(51,51,51)\",\"ticks\":\"outside\",\"zerolinecolor\":\"white\"}},\"shapedefaults\":{\"fillcolor\":\"black\",\"line\":{\"width\":0},\"opacity\":0.3},\"ternary\":{\"aaxis\":{\"gridcolor\":\"white\",\"linecolor\":\"white\",\"showgrid\":true,\"tickcolor\":\"rgb(51,51,51)\",\"ticks\":\"outside\"},\"baxis\":{\"gridcolor\":\"white\",\"linecolor\":\"white\",\"showgrid\":true,\"tickcolor\":\"rgb(51,51,51)\",\"ticks\":\"outside\"},\"bgcolor\":\"rgb(237,237,237)\",\"caxis\":{\"gridcolor\":\"white\",\"linecolor\":\"white\",\"showgrid\":true,\"tickcolor\":\"rgb(51,51,51)\",\"ticks\":\"outside\"}},\"xaxis\":{\"automargin\":true,\"gridcolor\":\"white\",\"linecolor\":\"white\",\"showgrid\":true,\"tickcolor\":\"rgb(51,51,51)\",\"ticks\":\"outside\",\"title\":{\"standoff\":15},\"zerolinecolor\":\"white\"},\"yaxis\":{\"automargin\":true,\"gridcolor\":\"white\",\"linecolor\":\"white\",\"showgrid\":true,\"tickcolor\":\"rgb(51,51,51)\",\"ticks\":\"outside\",\"title\":{\"standoff\":15},\"zerolinecolor\":\"white\"}}},\"xaxis\":{\"anchor\":\"y\",\"domain\":[0.0,1.0],\"title\":{\"text\":\"Lead Studios\"}},\"yaxis\":{\"anchor\":\"x\",\"domain\":[0.0,1.0],\"title\":{\"text\":\"Mean Worldwide Gross\"}},\"legend\":{\"title\":{\"text\":\"color\"},\"tracegroupgap\":0},\"title\":{\"text\":\"Lead Studio by Mean Worldwide Gross\"},\"barmode\":\"relative\",\"font\":{\"size\":17,\"family\":\"Times New Roman\"}},                        {\"responsive\": true}                    ).then(function(){\n",
       "                            \n",
       "var gd = document.getElementById('9e552d2d-017e-4a35-96cc-46d98cda3c06');\n",
       "var x = new MutationObserver(function (mutations, observer) {{\n",
       "        var display = window.getComputedStyle(gd).display;\n",
       "        if (!display || display === 'none') {{\n",
       "            console.log([gd, 'removed!']);\n",
       "            Plotly.purge(gd);\n",
       "            observer.disconnect();\n",
       "        }}\n",
       "}});\n",
       "\n",
       "// Listen for the removal of the full notebook cells\n",
       "var notebookContainer = gd.closest('#notebook-container');\n",
       "if (notebookContainer) {{\n",
       "    x.observe(notebookContainer, {childList: true});\n",
       "}}\n",
       "\n",
       "// Listen for the clearing of the current output cell\n",
       "var outputEl = gd.closest('.output');\n",
       "if (outputEl) {{\n",
       "    x.observe(outputEl, {childList: true});\n",
       "}}\n",
       "\n",
       "                        })                };                });            </script>        </div>"
      ]
     },
     "metadata": {},
     "output_type": "display_data"
    }
   ],
   "source": [
    "Lead_Studio = hollywood.groupby('Lead_Studio').mean().Worldwide_Gross.sort_values(ascending=False)\n",
    "Lead_Studio = np.round(Lead_Studio,1)\n",
    "plotly_bar(Lead_Studio, \"Lead Studio by Mean Worldwide Gross\", 'Lead Studios', 'Mean Worldwide Gross')"
   ]
  },
  {
   "cell_type": "code",
   "execution_count": 20,
   "id": "9af36303",
   "metadata": {
    "execution": {
     "iopub.execute_input": "2023-07-20T14:33:29.554810Z",
     "iopub.status.busy": "2023-07-20T14:33:29.553818Z",
     "iopub.status.idle": "2023-07-20T14:33:30.209140Z",
     "shell.execute_reply": "2023-07-20T14:33:30.208003Z"
    },
    "papermill": {
     "duration": 0.676924,
     "end_time": "2023-07-20T14:33:30.211977",
     "exception": false,
     "start_time": "2023-07-20T14:33:29.535053",
     "status": "completed"
    },
    "tags": []
   },
   "outputs": [
    {
     "data": {
      "text/plain": [
       "Text(0.5, 1.0, 'Audience__score_% vs. worldwide ')"
      ]
     },
     "execution_count": 20,
     "metadata": {},
     "output_type": "execute_result"
    },
    {
     "data": {
      "image/png": "[encoded data removed]",
      "text/plain": [
       "<Figure size 640x480 with 1 Axes>"
      ]
     },
     "metadata": {},
     "output_type": "display_data"
    }
   ],
   "source": [
    "# using sequencial color for genre scheme\n",
    "sns.scatterplot(x='Audience__score_%', y='Worldwide_Gross', hue='Genre', data=hollywood)\n",
    "plt.title('Audience__score_% vs. worldwide ')"
   ]
  },
  {
   "cell_type": "code",
   "execution_count": 21,
   "id": "cddc7822",
   "metadata": {
    "execution": {
     "iopub.execute_input": "2023-07-20T14:33:30.249750Z",
     "iopub.status.busy": "2023-07-20T14:33:30.249361Z",
     "iopub.status.idle": "2023-07-20T14:33:30.899871Z",
     "shell.execute_reply": "2023-07-20T14:33:30.898856Z"
    },
    "papermill": {
     "duration": 0.672162,
     "end_time": "2023-07-20T14:33:30.902262",
     "exception": false,
     "start_time": "2023-07-20T14:33:30.230100",
     "status": "completed"
    },
    "tags": []
   },
   "outputs": [
    {
     "data": {
      "text/plain": [
       "Text(0.5, 1.0, 'rotten tomamtoes vs. profit')"
      ]
     },
     "execution_count": 21,
     "metadata": {},
     "output_type": "execute_result"
    },
    {
     "data": {
      "image/png": "[encoded data removed]",
      "text/plain": [
       "<Figure size 640x480 with 1 Axes>"
      ]
     },
     "metadata": {},
     "output_type": "display_data"
    }
   ],
   "source": [
    "# using sequencial color for genre scheme\n",
    "sns.scatterplot(x='Rotten_Tomatoes_%', y='Profitability', hue='Genre', data=hollywood)\n",
    "plt.title('rotten tomamtoes vs. profit')"
   ]
  },
  {
   "cell_type": "code",
   "execution_count": 22,
   "id": "0e22618e",
   "metadata": {
    "execution": {
     "iopub.execute_input": "2023-07-20T14:33:30.943493Z",
     "iopub.status.busy": "2023-07-20T14:33:30.943061Z",
     "iopub.status.idle": "2023-07-20T14:33:31.600617Z",
     "shell.execute_reply": "2023-07-20T14:33:31.599453Z"
    },
    "papermill": {
     "duration": 0.682051,
     "end_time": "2023-07-20T14:33:31.603843",
     "exception": false,
     "start_time": "2023-07-20T14:33:30.921792",
     "status": "completed"
    },
    "tags": []
   },
   "outputs": [
    {
     "data": {
      "text/plain": [
       "Text(0, 0.5, 'Year')"
      ]
     },
     "execution_count": 22,
     "metadata": {},
     "output_type": "execute_result"
    },
    {
     "data": {
      "image/png": "[encoded data removed]",
      "text/plain": [
       "<Figure size 1000x600 with 1 Axes>"
      ]
     },
     "metadata": {},
     "output_type": "display_data"
    }
   ],
   "source": [
    "# Set the width and height of the figure\n",
    "plt.figure(figsize=(10,6))\n",
    "\n",
    "# Add title\n",
    "plt.title(\"Which Year Makes the Most Money?\")\n",
    "\n",
    "# Bar chart showing which year made the most money\n",
    "sns.scatterplot(x=hollywood.Profitability, y=hollywood['Year'], hue =hollywood[\"Genre\"])\n",
    "\n",
    "# Add label for vertical axis\n",
    "plt.ylabel(\"Year\")"
   ]
  },
  {
   "cell_type": "code",
   "execution_count": 23,
   "id": "f1851984",
   "metadata": {
    "execution": {
     "iopub.execute_input": "2023-07-20T14:33:31.646675Z",
     "iopub.status.busy": "2023-07-20T14:33:31.646216Z",
     "iopub.status.idle": "2023-07-20T14:33:32.194638Z",
     "shell.execute_reply": "2023-07-20T14:33:32.192360Z"
    },
    "papermill": {
     "duration": 0.576259,
     "end_time": "2023-07-20T14:33:32.200318",
     "exception": false,
     "start_time": "2023-07-20T14:33:31.624059",
     "status": "completed"
    },
    "tags": []
   },
   "outputs": [
    {
     "data": {
      "text/plain": [
       "Text(0, 0.5, 'Movie Genres')"
      ]
     },
     "execution_count": 23,
     "metadata": {},
     "output_type": "execute_result"
    },
    {
     "data": {
      "image/png": "[encoded data removed]",
      "text/plain": [
       "<Figure size 1000x600 with 1 Axes>"
      ]
     },
     "metadata": {},
     "output_type": "display_data"
    }
   ],
   "source": [
    "# Set the width and height of the figure\n",
    "plt.figure(figsize=(10,6))\n",
    "\n",
    "plt.title(\"Which Genre Makes the Most Money?\")\n",
    "\n",
    "# The Genre that makes most money\n",
    "sns.barplot(x=hollywood.Profitability, y=hollywood['Genre'])\n",
    "\n",
    "# Add label for vertical axis\n",
    "plt.ylabel(\"Movie Genres\")"
   ]
  },
  {
   "cell_type": "code",
   "execution_count": 24,
   "id": "4acd135a",
   "metadata": {
    "execution": {
     "iopub.execute_input": "2023-07-20T14:33:32.247039Z",
     "iopub.status.busy": "2023-07-20T14:33:32.246069Z",
     "iopub.status.idle": "2023-07-20T14:33:32.720193Z",
     "shell.execute_reply": "2023-07-20T14:33:32.718923Z"
    },
    "papermill": {
     "duration": 0.498738,
     "end_time": "2023-07-20T14:33:32.722930",
     "exception": false,
     "start_time": "2023-07-20T14:33:32.224192",
     "status": "completed"
    },
    "tags": []
   },
   "outputs": [
    {
     "name": "stderr",
     "output_type": "stream",
     "text": [
      "/tmp/ipykernel_21/223686261.py:4: FutureWarning:\n",
      "\n",
      "The default value of numeric_only in DataFrame.corr is deprecated. In a future version, it will default to False. Select only valid columns or specify the value of numeric_only to silence this warning.\n",
      "\n"
     ]
    },
    {
     "data": {
      "text/plain": [
       "<Axes: >"
      ]
     },
     "execution_count": 24,
     "metadata": {},
     "output_type": "execute_result"
    },
    {
     "data": {
      "image/png": "[encoded data removed]",
      "text/plain": [
       "<Figure size 1100x800 with 2 Axes>"
      ]
     },
     "metadata": {},
     "output_type": "display_data"
    }
   ],
   "source": [
    "# fig .set_size_inches(10,10)\n",
    "# sns.pointplot(x = year_worldwide_Gross.index, y=year_worldwide_Gross.Worldwide_Gross, color='c')\n",
    "plt.figure(figsize=(11,8))\n",
    "sns.heatmap(hollywood.corr(), annot=True, linewidths=.3)"
   ]
  },
  {
   "cell_type": "markdown",
   "id": "d8b8e9ad",
   "metadata": {
    "papermill": {
     "duration": 0.02095,
     "end_time": "2023-07-20T14:33:32.765661",
     "exception": false,
     "start_time": "2023-07-20T14:33:32.744711",
     "status": "completed"
    },
    "tags": []
   },
   "source": [
    "* 60% of the highest correlation matrix, the rotten tomatoes and Audience score \n",
    "* 40% of the highest correlation matrix, the worldwide gross and Audience score "
   ]
  },
  {
   "cell_type": "code",
   "execution_count": 25,
   "id": "5cbb1a56",
   "metadata": {
    "execution": {
     "iopub.execute_input": "2023-07-20T14:33:32.811132Z",
     "iopub.status.busy": "2023-07-20T14:33:32.810623Z",
     "iopub.status.idle": "2023-07-20T14:33:33.386101Z",
     "shell.execute_reply": "2023-07-20T14:33:33.384926Z"
    },
    "papermill": {
     "duration": 0.601965,
     "end_time": "2023-07-20T14:33:33.388773",
     "exception": false,
     "start_time": "2023-07-20T14:33:32.786808",
     "status": "completed"
    },
    "tags": []
   },
   "outputs": [
    {
     "data": {
      "text/plain": [
       "<Axes: xlabel='Audience__score_%', ylabel='Worldwide_Gross'>"
      ]
     },
     "execution_count": 25,
     "metadata": {},
     "output_type": "execute_result"
    },
    {
     "data": {
      "image/png": "[encoded data removed]",
      "text/plain": [
       "<Figure size 2500x1000 with 1 Axes>"
      ]
     },
     "metadata": {},
     "output_type": "display_data"
    }
   ],
   "source": [
    "fig, ax = plt.subplots() \n",
    "fig.set_size_inches(25,10)\n",
    "sns.regplot(x='Audience__score_%',y='Worldwide_Gross', data=hollywood, color='red')"
   ]
  },
  {
   "cell_type": "code",
   "execution_count": 26,
   "id": "655b878d",
   "metadata": {
    "execution": {
     "iopub.execute_input": "2023-07-20T14:33:33.435382Z",
     "iopub.status.busy": "2023-07-20T14:33:33.434938Z",
     "iopub.status.idle": "2023-07-20T14:33:34.017640Z",
     "shell.execute_reply": "2023-07-20T14:33:34.016739Z"
    },
    "papermill": {
     "duration": 0.608995,
     "end_time": "2023-07-20T14:33:34.020059",
     "exception": false,
     "start_time": "2023-07-20T14:33:33.411064",
     "status": "completed"
    },
    "tags": []
   },
   "outputs": [
    {
     "data": {
      "text/plain": [
       "<Axes: xlabel='Audience__score_%', ylabel='Rotten_Tomatoes_%'>"
      ]
     },
     "execution_count": 26,
     "metadata": {},
     "output_type": "execute_result"
    },
    {
     "data": {
      "image/png": "[encoded data removed]",
      "text/plain": [
       "<Figure size 2500x1000 with 1 Axes>"
      ]
     },
     "metadata": {},
     "output_type": "display_data"
    }
   ],
   "source": [
    "fig, ax = plt.subplots() \n",
    "fig.set_size_inches(25,10)\n",
    "sns.regplot(x='Audience__score_%',y='Rotten_Tomatoes_%',data=hollywood, color='red')"
   ]
  },
  {
   "cell_type": "code",
   "execution_count": 27,
   "id": "83f70415",
   "metadata": {
    "execution": {
     "iopub.execute_input": "2023-07-20T14:33:34.070333Z",
     "iopub.status.busy": "2023-07-20T14:33:34.069467Z",
     "iopub.status.idle": "2023-07-20T14:33:34.093517Z",
     "shell.execute_reply": "2023-07-20T14:33:34.092155Z"
    },
    "papermill": {
     "duration": 0.051659,
     "end_time": "2023-07-20T14:33:34.096060",
     "exception": false,
     "start_time": "2023-07-20T14:33:34.044401",
     "status": "completed"
    },
    "tags": []
   },
   "outputs": [
    {
     "data": {
      "text/html": [
       "<div>\n",
       "<style scoped>\n",
       "    .dataframe tbody tr th:only-of-type {\n",
       "        vertical-align: middle;\n",
       "    }\n",
       "\n",
       "    .dataframe tbody tr th {\n",
       "        vertical-align: top;\n",
       "    }\n",
       "\n",
       "    .dataframe thead th {\n",
       "        text-align: right;\n",
       "    }\n",
       "</style>\n",
       "<table border=\"1\" class=\"dataframe\">\n",
       "  <thead>\n",
       "    <tr style=\"text-align: right;\">\n",
       "      <th></th>\n",
       "      <th>Film</th>\n",
       "      <th>Genre</th>\n",
       "      <th>Lead_Studio</th>\n",
       "      <th>Audience__score_%</th>\n",
       "      <th>Profitability</th>\n",
       "      <th>Rotten_Tomatoes_%</th>\n",
       "      <th>Worldwide_Gross</th>\n",
       "      <th>Year</th>\n",
       "    </tr>\n",
       "  </thead>\n",
       "  <tbody>\n",
       "    <tr>\n",
       "      <th>59</th>\n",
       "      <td>The Twilight Saga: New Moon</td>\n",
       "      <td>Drama</td>\n",
       "      <td>Summit</td>\n",
       "      <td>78.0</td>\n",
       "      <td>14.196400</td>\n",
       "      <td>27.0</td>\n",
       "      <td>709.820000</td>\n",
       "      <td>2009</td>\n",
       "    </tr>\n",
       "    <tr>\n",
       "      <th>62</th>\n",
       "      <td>Twilight: Breaking Dawn</td>\n",
       "      <td>Romance</td>\n",
       "      <td>Independent</td>\n",
       "      <td>68.0</td>\n",
       "      <td>6.383364</td>\n",
       "      <td>26.0</td>\n",
       "      <td>702.170000</td>\n",
       "      <td>2011</td>\n",
       "    </tr>\n",
       "    <tr>\n",
       "      <th>29</th>\n",
       "      <td>Mamma Mia!</td>\n",
       "      <td>Comedy</td>\n",
       "      <td>Universal</td>\n",
       "      <td>76.0</td>\n",
       "      <td>9.234454</td>\n",
       "      <td>53.0</td>\n",
       "      <td>609.473955</td>\n",
       "      <td>2008</td>\n",
       "    </tr>\n",
       "    <tr>\n",
       "      <th>67</th>\n",
       "      <td>WALL-E</td>\n",
       "      <td>Animation</td>\n",
       "      <td>Disney</td>\n",
       "      <td>89.0</td>\n",
       "      <td>2.896019</td>\n",
       "      <td>96.0</td>\n",
       "      <td>521.283432</td>\n",
       "      <td>2008</td>\n",
       "    </tr>\n",
       "    <tr>\n",
       "      <th>47</th>\n",
       "      <td>Sex and the City</td>\n",
       "      <td>Comedy</td>\n",
       "      <td>Warner Bros.</td>\n",
       "      <td>81.0</td>\n",
       "      <td>7.221796</td>\n",
       "      <td>49.0</td>\n",
       "      <td>415.253258</td>\n",
       "      <td>2008</td>\n",
       "    </tr>\n",
       "    <tr>\n",
       "      <th>61</th>\n",
       "      <td>Twilight</td>\n",
       "      <td>Romance</td>\n",
       "      <td>Summit</td>\n",
       "      <td>82.0</td>\n",
       "      <td>10.180027</td>\n",
       "      <td>49.0</td>\n",
       "      <td>376.661000</td>\n",
       "      <td>2008</td>\n",
       "    </tr>\n",
       "    <tr>\n",
       "      <th>51</th>\n",
       "      <td>Tangled</td>\n",
       "      <td>Animation</td>\n",
       "      <td>Disney</td>\n",
       "      <td>88.0</td>\n",
       "      <td>1.365692</td>\n",
       "      <td>89.0</td>\n",
       "      <td>355.080000</td>\n",
       "      <td>2010</td>\n",
       "    </tr>\n",
       "    <tr>\n",
       "      <th>7</th>\n",
       "      <td>Enchanted</td>\n",
       "      <td>Comedy</td>\n",
       "      <td>Disney</td>\n",
       "      <td>80.0</td>\n",
       "      <td>4.005737</td>\n",
       "      <td>93.0</td>\n",
       "      <td>340.487652</td>\n",
       "      <td>2007</td>\n",
       "    </tr>\n",
       "    <tr>\n",
       "      <th>57</th>\n",
       "      <td>The Proposal</td>\n",
       "      <td>Comedy</td>\n",
       "      <td>Disney</td>\n",
       "      <td>74.0</td>\n",
       "      <td>7.867500</td>\n",
       "      <td>43.0</td>\n",
       "      <td>314.700000</td>\n",
       "      <td>2009</td>\n",
       "    </tr>\n",
       "    <tr>\n",
       "      <th>48</th>\n",
       "      <td>Sex and the City 2</td>\n",
       "      <td>Comedy</td>\n",
       "      <td>Warner Bros.</td>\n",
       "      <td>49.0</td>\n",
       "      <td>2.883500</td>\n",
       "      <td>15.0</td>\n",
       "      <td>288.350000</td>\n",
       "      <td>2010</td>\n",
       "    </tr>\n",
       "    <tr>\n",
       "      <th>53</th>\n",
       "      <td>The Curious Case of Benjamin Button</td>\n",
       "      <td>Fantasy</td>\n",
       "      <td>Warner Bros.</td>\n",
       "      <td>81.0</td>\n",
       "      <td>1.783944</td>\n",
       "      <td>73.0</td>\n",
       "      <td>285.431000</td>\n",
       "      <td>2008</td>\n",
       "    </tr>\n",
       "    <tr>\n",
       "      <th>15</th>\n",
       "      <td>High School Musical 3: Senior Year</td>\n",
       "      <td>Comedy</td>\n",
       "      <td>Disney</td>\n",
       "      <td>76.0</td>\n",
       "      <td>22.913136</td>\n",
       "      <td>65.0</td>\n",
       "      <td>252.044501</td>\n",
       "      <td>2008</td>\n",
       "    </tr>\n",
       "    <tr>\n",
       "      <th>17</th>\n",
       "      <td>It's Complicated</td>\n",
       "      <td>Comedy</td>\n",
       "      <td>Universal</td>\n",
       "      <td>63.0</td>\n",
       "      <td>2.642353</td>\n",
       "      <td>56.0</td>\n",
       "      <td>224.600000</td>\n",
       "      <td>2009</td>\n",
       "    </tr>\n",
       "    <tr>\n",
       "      <th>69</th>\n",
       "      <td>What Happens in Vegas</td>\n",
       "      <td>Comedy</td>\n",
       "      <td>Fox</td>\n",
       "      <td>72.0</td>\n",
       "      <td>6.267647</td>\n",
       "      <td>28.0</td>\n",
       "      <td>219.367646</td>\n",
       "      <td>2008</td>\n",
       "    </tr>\n",
       "    <tr>\n",
       "      <th>21</th>\n",
       "      <td>Knocked Up</td>\n",
       "      <td>Comedy</td>\n",
       "      <td>Universal</td>\n",
       "      <td>83.0</td>\n",
       "      <td>6.636402</td>\n",
       "      <td>91.0</td>\n",
       "      <td>219.001261</td>\n",
       "      <td>2007</td>\n",
       "    </tr>\n",
       "    <tr>\n",
       "      <th>64</th>\n",
       "      <td>Valentine's Day</td>\n",
       "      <td>Comedy</td>\n",
       "      <td>Warner Bros.</td>\n",
       "      <td>54.0</td>\n",
       "      <td>4.184038</td>\n",
       "      <td>17.0</td>\n",
       "      <td>217.570000</td>\n",
       "      <td>2010</td>\n",
       "    </tr>\n",
       "    <tr>\n",
       "      <th>30</th>\n",
       "      <td>Marley and Me</td>\n",
       "      <td>Comedy</td>\n",
       "      <td>Fox</td>\n",
       "      <td>77.0</td>\n",
       "      <td>3.746782</td>\n",
       "      <td>63.0</td>\n",
       "      <td>206.073000</td>\n",
       "      <td>2008</td>\n",
       "    </tr>\n",
       "    <tr>\n",
       "      <th>60</th>\n",
       "      <td>The Ugly Truth</td>\n",
       "      <td>Comedy</td>\n",
       "      <td>Independent</td>\n",
       "      <td>68.0</td>\n",
       "      <td>5.402632</td>\n",
       "      <td>14.0</td>\n",
       "      <td>205.300000</td>\n",
       "      <td>2009</td>\n",
       "    </tr>\n",
       "    <tr>\n",
       "      <th>11</th>\n",
       "      <td>Gnomeo and Juliet</td>\n",
       "      <td>Animation</td>\n",
       "      <td>Disney</td>\n",
       "      <td>52.0</td>\n",
       "      <td>5.387972</td>\n",
       "      <td>56.0</td>\n",
       "      <td>193.967000</td>\n",
       "      <td>2011</td>\n",
       "    </tr>\n",
       "    <tr>\n",
       "      <th>14</th>\n",
       "      <td>He's Just Not That Into You</td>\n",
       "      <td>Comedy</td>\n",
       "      <td>Warner Bros.</td>\n",
       "      <td>60.0</td>\n",
       "      <td>7.153600</td>\n",
       "      <td>42.0</td>\n",
       "      <td>178.840000</td>\n",
       "      <td>2009</td>\n",
       "    </tr>\n",
       "  </tbody>\n",
       "</table>\n",
       "</div>"
      ],
      "text/plain": [
       "                                   Film      Genre   Lead_Studio  \\\n",
       "59          The Twilight Saga: New Moon      Drama        Summit   \n",
       "62              Twilight: Breaking Dawn    Romance   Independent   \n",
       "29                           Mamma Mia!     Comedy     Universal   \n",
       "67                               WALL-E  Animation        Disney   \n",
       "47                     Sex and the City     Comedy  Warner Bros.   \n",
       "61                             Twilight    Romance        Summit   \n",
       "51                              Tangled  Animation        Disney   \n",
       "7                             Enchanted     Comedy        Disney   \n",
       "57                         The Proposal     Comedy        Disney   \n",
       "48                   Sex and the City 2     Comedy  Warner Bros.   \n",
       "53  The Curious Case of Benjamin Button    Fantasy  Warner Bros.   \n",
       "15   High School Musical 3: Senior Year     Comedy        Disney   \n",
       "17                     It's Complicated     Comedy     Universal   \n",
       "69                What Happens in Vegas     Comedy           Fox   \n",
       "21                           Knocked Up     Comedy     Universal   \n",
       "64                      Valentine's Day     Comedy  Warner Bros.   \n",
       "30                        Marley and Me     Comedy           Fox   \n",
       "60                       The Ugly Truth     Comedy   Independent   \n",
       "11                    Gnomeo and Juliet  Animation        Disney   \n",
       "14          He's Just Not That Into You     Comedy  Warner Bros.   \n",
       "\n",
       "    Audience__score_%  Profitability  Rotten_Tomatoes_%  Worldwide_Gross  Year  \n",
       "59               78.0      14.196400               27.0       709.820000  2009  \n",
       "62               68.0       6.383364               26.0       702.170000  2011  \n",
       "29               76.0       9.234454               53.0       609.473955  2008  \n",
       "67               89.0       2.896019               96.0       521.283432  2008  \n",
       "47               81.0       7.221796               49.0       415.253258  2008  \n",
       "61               82.0      10.180027               49.0       376.661000  2008  \n",
       "51               88.0       1.365692               89.0       355.080000  2010  \n",
       "7                80.0       4.005737               93.0       340.487652  2007  \n",
       "57               74.0       7.867500               43.0       314.700000  2009  \n",
       "48               49.0       2.883500               15.0       288.350000  2010  \n",
       "53               81.0       1.783944               73.0       285.431000  2008  \n",
       "15               76.0      22.913136               65.0       252.044501  2008  \n",
       "17               63.0       2.642353               56.0       224.600000  2009  \n",
       "69               72.0       6.267647               28.0       219.367646  2008  \n",
       "21               83.0       6.636402               91.0       219.001261  2007  \n",
       "64               54.0       4.184038               17.0       217.570000  2010  \n",
       "30               77.0       3.746782               63.0       206.073000  2008  \n",
       "60               68.0       5.402632               14.0       205.300000  2009  \n",
       "11               52.0       5.387972               56.0       193.967000  2011  \n",
       "14               60.0       7.153600               42.0       178.840000  2009  "
      ]
     },
     "execution_count": 27,
     "metadata": {},
     "output_type": "execute_result"
    }
   ],
   "source": [
    "worldwide = hollywood.sort_values('Worldwide_Gross', ascending=False)[:20]\n",
    "worldwide"
   ]
  },
  {
   "cell_type": "code",
   "execution_count": 28,
   "id": "e8f3b0f7",
   "metadata": {
    "execution": {
     "iopub.execute_input": "2023-07-20T14:33:34.146023Z",
     "iopub.status.busy": "2023-07-20T14:33:34.145618Z",
     "iopub.status.idle": "2023-07-20T14:33:34.169247Z",
     "shell.execute_reply": "2023-07-20T14:33:34.168196Z"
    },
    "papermill": {
     "duration": 0.051545,
     "end_time": "2023-07-20T14:33:34.171573",
     "exception": false,
     "start_time": "2023-07-20T14:33:34.120028",
     "status": "completed"
    },
    "tags": []
   },
   "outputs": [
    {
     "data": {
      "text/html": [
       "<div>\n",
       "<style scoped>\n",
       "    .dataframe tbody tr th:only-of-type {\n",
       "        vertical-align: middle;\n",
       "    }\n",
       "\n",
       "    .dataframe tbody tr th {\n",
       "        vertical-align: top;\n",
       "    }\n",
       "\n",
       "    .dataframe thead th {\n",
       "        text-align: right;\n",
       "    }\n",
       "</style>\n",
       "<table border=\"1\" class=\"dataframe\">\n",
       "  <thead>\n",
       "    <tr style=\"text-align: right;\">\n",
       "      <th></th>\n",
       "      <th>Film</th>\n",
       "      <th>Genre</th>\n",
       "      <th>Lead_Studio</th>\n",
       "      <th>Audience__score_%</th>\n",
       "      <th>Profitability</th>\n",
       "      <th>Rotten_Tomatoes_%</th>\n",
       "      <th>Worldwide_Gross</th>\n",
       "      <th>Year</th>\n",
       "    </tr>\n",
       "  </thead>\n",
       "  <tbody>\n",
       "    <tr>\n",
       "      <th>8</th>\n",
       "      <td>Fireproof</td>\n",
       "      <td>Drama</td>\n",
       "      <td>Independent</td>\n",
       "      <td>51.0</td>\n",
       "      <td>66.934000</td>\n",
       "      <td>40.0</td>\n",
       "      <td>33.467000</td>\n",
       "      <td>2008</td>\n",
       "    </tr>\n",
       "    <tr>\n",
       "      <th>15</th>\n",
       "      <td>High School Musical 3: Senior Year</td>\n",
       "      <td>Comedy</td>\n",
       "      <td>Disney</td>\n",
       "      <td>76.0</td>\n",
       "      <td>22.913136</td>\n",
       "      <td>65.0</td>\n",
       "      <td>252.044501</td>\n",
       "      <td>2008</td>\n",
       "    </tr>\n",
       "    <tr>\n",
       "      <th>59</th>\n",
       "      <td>The Twilight Saga: New Moon</td>\n",
       "      <td>Drama</td>\n",
       "      <td>Summit</td>\n",
       "      <td>78.0</td>\n",
       "      <td>14.196400</td>\n",
       "      <td>27.0</td>\n",
       "      <td>709.820000</td>\n",
       "      <td>2009</td>\n",
       "    </tr>\n",
       "    <tr>\n",
       "      <th>66</th>\n",
       "      <td>Waitress</td>\n",
       "      <td>Romance</td>\n",
       "      <td>Independent</td>\n",
       "      <td>67.0</td>\n",
       "      <td>11.089742</td>\n",
       "      <td>89.0</td>\n",
       "      <td>22.179483</td>\n",
       "      <td>2007</td>\n",
       "    </tr>\n",
       "    <tr>\n",
       "      <th>61</th>\n",
       "      <td>Twilight</td>\n",
       "      <td>Romance</td>\n",
       "      <td>Summit</td>\n",
       "      <td>82.0</td>\n",
       "      <td>10.180027</td>\n",
       "      <td>49.0</td>\n",
       "      <td>376.661000</td>\n",
       "      <td>2008</td>\n",
       "    </tr>\n",
       "    <tr>\n",
       "      <th>29</th>\n",
       "      <td>Mamma Mia!</td>\n",
       "      <td>Comedy</td>\n",
       "      <td>Universal</td>\n",
       "      <td>76.0</td>\n",
       "      <td>9.234454</td>\n",
       "      <td>53.0</td>\n",
       "      <td>609.473955</td>\n",
       "      <td>2008</td>\n",
       "    </tr>\n",
       "    <tr>\n",
       "      <th>31</th>\n",
       "      <td>Midnight in Paris</td>\n",
       "      <td>Romance</td>\n",
       "      <td>Sony</td>\n",
       "      <td>84.0</td>\n",
       "      <td>8.744706</td>\n",
       "      <td>93.0</td>\n",
       "      <td>148.660000</td>\n",
       "      <td>2011</td>\n",
       "    </tr>\n",
       "    <tr>\n",
       "      <th>1</th>\n",
       "      <td>(500) Days of Summer</td>\n",
       "      <td>Comedy</td>\n",
       "      <td>Fox</td>\n",
       "      <td>81.0</td>\n",
       "      <td>8.096000</td>\n",
       "      <td>87.0</td>\n",
       "      <td>60.720000</td>\n",
       "      <td>2009</td>\n",
       "    </tr>\n",
       "    <tr>\n",
       "      <th>57</th>\n",
       "      <td>The Proposal</td>\n",
       "      <td>Comedy</td>\n",
       "      <td>Disney</td>\n",
       "      <td>74.0</td>\n",
       "      <td>7.867500</td>\n",
       "      <td>43.0</td>\n",
       "      <td>314.700000</td>\n",
       "      <td>2009</td>\n",
       "    </tr>\n",
       "    <tr>\n",
       "      <th>47</th>\n",
       "      <td>Sex and the City</td>\n",
       "      <td>Comedy</td>\n",
       "      <td>Warner Bros.</td>\n",
       "      <td>81.0</td>\n",
       "      <td>7.221796</td>\n",
       "      <td>49.0</td>\n",
       "      <td>415.253258</td>\n",
       "      <td>2008</td>\n",
       "    </tr>\n",
       "    <tr>\n",
       "      <th>14</th>\n",
       "      <td>He's Just Not That Into You</td>\n",
       "      <td>Comedy</td>\n",
       "      <td>Warner Bros.</td>\n",
       "      <td>60.0</td>\n",
       "      <td>7.153600</td>\n",
       "      <td>42.0</td>\n",
       "      <td>178.840000</td>\n",
       "      <td>2009</td>\n",
       "    </tr>\n",
       "    <tr>\n",
       "      <th>21</th>\n",
       "      <td>Knocked Up</td>\n",
       "      <td>Comedy</td>\n",
       "      <td>Universal</td>\n",
       "      <td>83.0</td>\n",
       "      <td>6.636402</td>\n",
       "      <td>91.0</td>\n",
       "      <td>219.001261</td>\n",
       "      <td>2007</td>\n",
       "    </tr>\n",
       "    <tr>\n",
       "      <th>62</th>\n",
       "      <td>Twilight: Breaking Dawn</td>\n",
       "      <td>Romance</td>\n",
       "      <td>Independent</td>\n",
       "      <td>68.0</td>\n",
       "      <td>6.383364</td>\n",
       "      <td>26.0</td>\n",
       "      <td>702.170000</td>\n",
       "      <td>2011</td>\n",
       "    </tr>\n",
       "    <tr>\n",
       "      <th>69</th>\n",
       "      <td>What Happens in Vegas</td>\n",
       "      <td>Comedy</td>\n",
       "      <td>Fox</td>\n",
       "      <td>72.0</td>\n",
       "      <td>6.267647</td>\n",
       "      <td>28.0</td>\n",
       "      <td>219.367646</td>\n",
       "      <td>2008</td>\n",
       "    </tr>\n",
       "    <tr>\n",
       "      <th>60</th>\n",
       "      <td>The Ugly Truth</td>\n",
       "      <td>Comedy</td>\n",
       "      <td>Independent</td>\n",
       "      <td>68.0</td>\n",
       "      <td>5.402632</td>\n",
       "      <td>14.0</td>\n",
       "      <td>205.300000</td>\n",
       "      <td>2009</td>\n",
       "    </tr>\n",
       "    <tr>\n",
       "      <th>11</th>\n",
       "      <td>Gnomeo and Juliet</td>\n",
       "      <td>Animation</td>\n",
       "      <td>Disney</td>\n",
       "      <td>52.0</td>\n",
       "      <td>5.387972</td>\n",
       "      <td>56.0</td>\n",
       "      <td>193.967000</td>\n",
       "      <td>2011</td>\n",
       "    </tr>\n",
       "    <tr>\n",
       "      <th>0</th>\n",
       "      <td>27 Dresses</td>\n",
       "      <td>Comedy</td>\n",
       "      <td>Fox</td>\n",
       "      <td>71.0</td>\n",
       "      <td>5.343622</td>\n",
       "      <td>40.0</td>\n",
       "      <td>160.308654</td>\n",
       "      <td>2008</td>\n",
       "    </tr>\n",
       "    <tr>\n",
       "      <th>43</th>\n",
       "      <td>P.S. I Love You</td>\n",
       "      <td>Romance</td>\n",
       "      <td>Independent</td>\n",
       "      <td>82.0</td>\n",
       "      <td>5.103117</td>\n",
       "      <td>21.0</td>\n",
       "      <td>153.093505</td>\n",
       "      <td>2007</td>\n",
       "    </tr>\n",
       "    <tr>\n",
       "      <th>6</th>\n",
       "      <td>Dear John</td>\n",
       "      <td>Drama</td>\n",
       "      <td>Sony</td>\n",
       "      <td>66.0</td>\n",
       "      <td>4.598800</td>\n",
       "      <td>29.0</td>\n",
       "      <td>114.970000</td>\n",
       "      <td>2010</td>\n",
       "    </tr>\n",
       "    <tr>\n",
       "      <th>5</th>\n",
       "      <td>Beginners</td>\n",
       "      <td>Comedy</td>\n",
       "      <td>Independent</td>\n",
       "      <td>80.0</td>\n",
       "      <td>4.471875</td>\n",
       "      <td>84.0</td>\n",
       "      <td>14.310000</td>\n",
       "      <td>2011</td>\n",
       "    </tr>\n",
       "  </tbody>\n",
       "</table>\n",
       "</div>"
      ],
      "text/plain": [
       "                                  Film      Genre   Lead_Studio  \\\n",
       "8                            Fireproof      Drama   Independent   \n",
       "15  High School Musical 3: Senior Year     Comedy        Disney   \n",
       "59         The Twilight Saga: New Moon      Drama        Summit   \n",
       "66                            Waitress    Romance   Independent   \n",
       "61                            Twilight    Romance        Summit   \n",
       "29                          Mamma Mia!     Comedy     Universal   \n",
       "31                   Midnight in Paris    Romance          Sony   \n",
       "1                 (500) Days of Summer     Comedy           Fox   \n",
       "57                        The Proposal     Comedy        Disney   \n",
       "47                    Sex and the City     Comedy  Warner Bros.   \n",
       "14         He's Just Not That Into You     Comedy  Warner Bros.   \n",
       "21                          Knocked Up     Comedy     Universal   \n",
       "62             Twilight: Breaking Dawn    Romance   Independent   \n",
       "69               What Happens in Vegas     Comedy           Fox   \n",
       "60                      The Ugly Truth     Comedy   Independent   \n",
       "11                   Gnomeo and Juliet  Animation        Disney   \n",
       "0                           27 Dresses     Comedy           Fox   \n",
       "43                     P.S. I Love You    Romance   Independent   \n",
       "6                            Dear John      Drama          Sony   \n",
       "5                            Beginners     Comedy   Independent   \n",
       "\n",
       "    Audience__score_%  Profitability  Rotten_Tomatoes_%  Worldwide_Gross  Year  \n",
       "8                51.0      66.934000               40.0        33.467000  2008  \n",
       "15               76.0      22.913136               65.0       252.044501  2008  \n",
       "59               78.0      14.196400               27.0       709.820000  2009  \n",
       "66               67.0      11.089742               89.0        22.179483  2007  \n",
       "61               82.0      10.180027               49.0       376.661000  2008  \n",
       "29               76.0       9.234454               53.0       609.473955  2008  \n",
       "31               84.0       8.744706               93.0       148.660000  2011  \n",
       "1                81.0       8.096000               87.0        60.720000  2009  \n",
       "57               74.0       7.867500               43.0       314.700000  2009  \n",
       "47               81.0       7.221796               49.0       415.253258  2008  \n",
       "14               60.0       7.153600               42.0       178.840000  2009  \n",
       "21               83.0       6.636402               91.0       219.001261  2007  \n",
       "62               68.0       6.383364               26.0       702.170000  2011  \n",
       "69               72.0       6.267647               28.0       219.367646  2008  \n",
       "60               68.0       5.402632               14.0       205.300000  2009  \n",
       "11               52.0       5.387972               56.0       193.967000  2011  \n",
       "0                71.0       5.343622               40.0       160.308654  2008  \n",
       "43               82.0       5.103117               21.0       153.093505  2007  \n",
       "6                66.0       4.598800               29.0       114.970000  2010  \n",
       "5                80.0       4.471875               84.0        14.310000  2011  "
      ]
     },
     "execution_count": 28,
     "metadata": {},
     "output_type": "execute_result"
    }
   ],
   "source": [
    "prof = hollywood.sort_values('Profitability', ascending=False)[:20]\n",
    "prof"
   ]
  },
  {
   "cell_type": "markdown",
   "id": "d8f633fd",
   "metadata": {
    "papermill": {
     "duration": 0.024172,
     "end_time": "2023-07-20T14:33:34.220298",
     "exception": false,
     "start_time": "2023-07-20T14:33:34.196126",
     "status": "completed"
    },
    "tags": []
   },
   "source": [
    "# **Thanks for your time**"
   ]
  }
 ],
 "metadata": {
  "kernelspec": {
   "display_name": "Python 3",
   "language": "python",
   "name": "python3"
  },
  "language_info": {
   "codemirror_mode": {
    "name": "ipython",
    "version": 3
   },
   "file_extension": ".py",
   "mimetype": "text/x-python",
   "name": "python",
   "nbconvert_exporter": "python",
   "pygments_lexer": "ipython3",
   "version": "3.10.12"
  },
  "papermill": {
   "default_parameters": {},
   "duration": 23.446612,
   "end_time": "2023-07-20T14:33:35.368207",
   "environment_variables": {},
   "exception": null,
   "input_path": "__notebook__.ipynb",
   "output_path": "__notebook__.ipynb",
   "parameters": {},
   "start_time": "2023-07-20T14:33:11.921595",
   "version": "2.4.0"
  }
 },
 "nbformat": 4,
 "nbformat_minor": 5
}
